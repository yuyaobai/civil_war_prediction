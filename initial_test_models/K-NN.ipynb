{
 "cells": [
  {
   "cell_type": "markdown",
   "id": "9cf797df",
   "metadata": {},
   "source": [
    "---\n",
    "title: \"DS202W - Group Project\"\n",
    "author: \"Civic Tensor (Group 2)\"\n",
    "output: html\n",
    "self-contained: true\n",
    "jupyter: python3\n",
    "engine: jupyter\n",
    "editor:\n",
    "  render-on-save: true\n",
    "  preview: true\n",
    "---"
   ]
  },
  {
   "cell_type": "code",
   "execution_count": 29,
   "id": "c88a204a",
   "metadata": {},
   "outputs": [
    {
     "data": {
      "text/html": [
       "\n",
       "            <div id=\"CdMj5k\"></div>\n",
       "            <script type=\"text/javascript\" data-lets-plot-script=\"library\">\n",
       "                if(!window.letsPlotCallQueue) {\n",
       "                    window.letsPlotCallQueue = [];\n",
       "                }; \n",
       "                window.letsPlotCall = function(f) {\n",
       "                    window.letsPlotCallQueue.push(f);\n",
       "                };\n",
       "                (function() {\n",
       "                    var script = document.createElement(\"script\");\n",
       "                    script.type = \"text/javascript\";\n",
       "                    script.src = \"https://cdn.jsdelivr.net/gh/JetBrains/lets-plot@v4.5.2/js-package/distr/lets-plot.min.js\";\n",
       "                    script.onload = function() {\n",
       "                        window.letsPlotCall = function(f) {f();};\n",
       "                        window.letsPlotCallQueue.forEach(function(f) {f();});\n",
       "                        window.letsPlotCallQueue = [];\n",
       "                        \n",
       "                    };\n",
       "                    script.onerror = function(event) {\n",
       "                        window.letsPlotCall = function(f) {};    // noop\n",
       "                        window.letsPlotCallQueue = [];\n",
       "                        var div = document.createElement(\"div\");\n",
       "                        div.style.color = 'darkred';\n",
       "                        div.textContent = 'Error loading Lets-Plot JS';\n",
       "                        document.getElementById(\"CdMj5k\").appendChild(div);\n",
       "                    };\n",
       "                    var e = document.getElementById(\"CdMj5k\");\n",
       "                    e.appendChild(script);\n",
       "                })()\n",
       "            </script>\n",
       "            "
      ]
     },
     "metadata": {},
     "output_type": "display_data"
    }
   ],
   "source": [
    "# Import relevant libraries\n",
    "import pandas as pd\n",
    "import numpy as np\n",
    "from sklearn.preprocessing import StandardScaler\n",
    "from sklearn.preprocessing import LabelEncoder\n",
    "from sklearn.experimental import enable_halving_search_cv\n",
    "from sklearn.model_selection import train_test_split, cross_val_predict, cross_val_score, TimeSeriesSplit, GridSearchCV, HalvingGridSearchCV\n",
    "from sklearn.ensemble import RandomForestClassifier, GradientBoostingRegressor, GradientBoostingClassifier, AdaBoostClassifier, ExtraTreesClassifier, VotingClassifier\n",
    "from sklearn.metrics import accuracy_score, balanced_accuracy_score, confusion_matrix, root_mean_squared_error, roc_auc_score, roc_curve, f1_score, fbeta_score, \\\n",
    "                            precision_score, recall_score, precision_recall_curve, average_precision_score, make_scorer, r2_score, mean_squared_error, \\\n",
    "                            mean_absolute_error, mean_squared_log_error, median_absolute_error, classification_report, roc_curve, auc\n",
    "from sklearn.ensemble import RandomForestRegressor\n",
    "from sklearn.neighbors import KNeighborsClassifier\n",
    "from sklearn.linear_model import LogisticRegression\n",
    "from sklearn.tree import DecisionTreeClassifier, plot_tree\n",
    "from sklearn.linear_model import LinearRegression, BayesianRidge, Lasso, Ridge, ElasticNet\n",
    "from sklearn.preprocessing import PolynomialFeatures\n",
    "from sklearn.preprocessing import MinMaxScaler\n",
    "from sklearn.svm import SVC\n",
    "from sklearn.experimental import enable_iterative_imputer\n",
    "from sklearn.exceptions import FitFailedWarning\n",
    "from sklearn.impute import IterativeImputer\n",
    "from sklearn.pipeline import make_pipeline, Pipeline\n",
    "import statsmodels.api as sm\n",
    "from lets_plot import *\n",
    "LetsPlot.setup_html()\n",
    "from lets_plot.plot import gggrid\n",
    "from pytablewriter import MarkdownTableWriter\n",
    "import matplotlib.pyplot as plt\n",
    "import xgboost as xgb\n",
    "import lightgbm as lgb\n",
    "import catboost\n",
    "import missingno as msno\n",
    "import seaborn as sns\n",
    "from sklearn.svm import SVR\n",
    "import sweetviz as sv\n",
    "from collections import Counter\n",
    "import random\n",
    "from imblearn.over_sampling import SMOTE\n",
    "from imblearn.pipeline import Pipeline as ImbPipeline\n",
    "import warnings\n",
    "from plotnine.themes.themeable import themeable\n",
    "from plotnine import ggplot, aes, geom_bar, theme_minimal, options\n",
    "from imblearn.under_sampling import RandomUnderSampler"
   ]
  },
  {
   "cell_type": "code",
   "execution_count": 2,
   "id": "b8111e0f",
   "metadata": {},
   "outputs": [],
   "source": [
    "# Open the data file\n",
    "df = pd.read_csv('ds202w-group-projects-civil-war.csv')"
   ]
  },
  {
   "cell_type": "code",
   "execution_count": 3,
   "id": "d427c277",
   "metadata": {},
   "outputs": [
    {
     "name": "stdout",
     "output_type": "stream",
     "text": [
      "<class 'pandas.core.frame.DataFrame'>\n",
      "RangeIndex: 7140 entries, 0 to 7139\n",
      "Data columns (total 94 columns):\n",
      " #   Column      Non-Null Count  Dtype  \n",
      "---  ------      --------------  -----  \n",
      " 0   Unnamed: 0  7140 non-null   int64  \n",
      " 1   cowcode     7140 non-null   int64  \n",
      " 2   year        7140 non-null   int64  \n",
      " 3   warstds     7140 non-null   int64  \n",
      " 4   ager        7140 non-null   float64\n",
      " 5   agexp       7140 non-null   float64\n",
      " 6   anoc        7140 non-null   int64  \n",
      " 7   army85      7140 non-null   float64\n",
      " 8   autch98     7140 non-null   int64  \n",
      " 9   auto4       7140 non-null   float64\n",
      " 10  autonomy    7140 non-null   float64\n",
      " 11  avgnabo     7140 non-null   float64\n",
      " 12  centpol3    7140 non-null   int64  \n",
      " 13  coldwar     7140 non-null   int64  \n",
      " 14  decade1     7140 non-null   int64  \n",
      " 15  decade2     7140 non-null   int64  \n",
      " 16  decade3     7140 non-null   int64  \n",
      " 17  decade4     7140 non-null   int64  \n",
      " 18  dem         7140 non-null   int64  \n",
      " 19  dem4        7140 non-null   float64\n",
      " 20  demch98     7140 non-null   int64  \n",
      " 21  dlang       7140 non-null   float64\n",
      " 22  drel        7140 non-null   float64\n",
      " 23  durable     7140 non-null   float64\n",
      " 24  ef          7140 non-null   float64\n",
      " 25  ef2         7140 non-null   float64\n",
      " 26  ehet        7140 non-null   float64\n",
      " 27  elfo        7140 non-null   float64\n",
      " 28  elfo2       7140 non-null   float64\n",
      " 29  etdo4590    7140 non-null   float64\n",
      " 30  expgdp      7140 non-null   float64\n",
      " 31  exrec       7140 non-null   float64\n",
      " 32  fedpol3     7140 non-null   float64\n",
      " 33  fuelexp     7140 non-null   float64\n",
      " 34  gdpgrowth   7140 non-null   float64\n",
      " 35  geo1        7140 non-null   float64\n",
      " 36  geo2        7140 non-null   float64\n",
      " 37  geo34       7140 non-null   float64\n",
      " 38  geo57       7140 non-null   float64\n",
      " 39  geo69       7140 non-null   float64\n",
      " 40  geo8        7140 non-null   float64\n",
      " 41  illiteracy  7140 non-null   float64\n",
      " 42  incumb      7140 non-null   int64  \n",
      " 43  infant      7140 non-null   float64\n",
      " 44  inst        7140 non-null   int64  \n",
      " 45  inst3       7140 non-null   float64\n",
      " 46  life        7140 non-null   float64\n",
      " 47  lmtnest     7140 non-null   float64\n",
      " 48  ln_gdpen    7140 non-null   float64\n",
      " 49  lpopns      7140 non-null   float64\n",
      " 50  major       7140 non-null   int64  \n",
      " 51  manuexp     7140 non-null   float64\n",
      " 52  milper      7140 non-null   float64\n",
      " 53  mirps0      7140 non-null   float64\n",
      " 54  mirps1      7140 non-null   float64\n",
      " 55  mirps2      7140 non-null   float64\n",
      " 56  mirps3      7140 non-null   float64\n",
      " 57  nat_war     7140 non-null   int64  \n",
      " 58  ncontig     7140 non-null   float64\n",
      " 59  nmgdp       7140 non-null   float64\n",
      " 60  nmdp4_alt   7140 non-null   float64\n",
      " 61  numlang     7140 non-null   float64\n",
      " 62  nwstate     7140 non-null   float64\n",
      " 63  oil         7140 non-null   int64  \n",
      " 64  p4mchg      7140 non-null   float64\n",
      " 65  parcomp     7140 non-null   float64\n",
      " 66  parreg      7140 non-null   float64\n",
      " 67  part        7140 non-null   float64\n",
      " 68  partfree    7140 non-null   int64  \n",
      " 69  plural      7140 non-null   float64\n",
      " 70  plurrel     7140 non-null   float64\n",
      " 71  pol4        7140 non-null   float64\n",
      " 72  pol4m       7140 non-null   float64\n",
      " 73  pol4sq      7140 non-null   float64\n",
      " 74  polch98     7140 non-null   int64  \n",
      " 75  polcomp     7140 non-null   float64\n",
      " 76  popdense    7140 non-null   float64\n",
      " 77  presi       7140 non-null   int64  \n",
      " 78  pri         7140 non-null   float64\n",
      " 79  proxregc    7140 non-null   float64\n",
      " 80  ptime       7140 non-null   int64  \n",
      " 81  reg         7140 non-null   float64\n",
      " 82  regd4_alt   7140 non-null   float64\n",
      " 83  relfrac     7140 non-null   float64\n",
      " 84  seceduc     7140 non-null   float64\n",
      " 85  second      7140 non-null   float64\n",
      " 86  semipol3    7140 non-null   float64\n",
      " 87  sip2        7140 non-null   float64\n",
      " 88  sxpnew      7140 non-null   float64\n",
      " 89  sxpsq       7140 non-null   float64\n",
      " 90  tnatwar     7140 non-null   float64\n",
      " 91  trade       7140 non-null   float64\n",
      " 92  warhist     7140 non-null   int64  \n",
      " 93  xconst      7140 non-null   float64\n",
      "dtypes: float64(70), int64(24)\n",
      "memory usage: 5.1 MB\n"
     ]
    }
   ],
   "source": [
    "df.info() "
   ]
  },
  {
   "cell_type": "code",
   "execution_count": 4,
   "id": "60096224",
   "metadata": {},
   "outputs": [
    {
     "data": {
      "text/html": [
       "<div>\n",
       "<style scoped>\n",
       "    .dataframe tbody tr th:only-of-type {\n",
       "        vertical-align: middle;\n",
       "    }\n",
       "\n",
       "    .dataframe tbody tr th {\n",
       "        vertical-align: top;\n",
       "    }\n",
       "\n",
       "    .dataframe thead th {\n",
       "        text-align: right;\n",
       "    }\n",
       "</style>\n",
       "<table border=\"1\" class=\"dataframe\">\n",
       "  <thead>\n",
       "    <tr style=\"text-align: right;\">\n",
       "      <th></th>\n",
       "      <th>Unnamed: 0</th>\n",
       "      <th>cowcode</th>\n",
       "      <th>year</th>\n",
       "      <th>warstds</th>\n",
       "      <th>ager</th>\n",
       "      <th>agexp</th>\n",
       "      <th>anoc</th>\n",
       "      <th>army85</th>\n",
       "      <th>autch98</th>\n",
       "      <th>auto4</th>\n",
       "      <th>...</th>\n",
       "      <th>seceduc</th>\n",
       "      <th>second</th>\n",
       "      <th>semipol3</th>\n",
       "      <th>sip2</th>\n",
       "      <th>sxpnew</th>\n",
       "      <th>sxpsq</th>\n",
       "      <th>tnatwar</th>\n",
       "      <th>trade</th>\n",
       "      <th>warhist</th>\n",
       "      <th>xconst</th>\n",
       "    </tr>\n",
       "  </thead>\n",
       "  <tbody>\n",
       "    <tr>\n",
       "      <th>0</th>\n",
       "      <td>1</td>\n",
       "      <td>700</td>\n",
       "      <td>1945</td>\n",
       "      <td>0</td>\n",
       "      <td>34.461765</td>\n",
       "      <td>8.510845</td>\n",
       "      <td>0</td>\n",
       "      <td>129472.9042</td>\n",
       "      <td>0</td>\n",
       "      <td>3.925812</td>\n",
       "      <td>...</td>\n",
       "      <td>43.770298</td>\n",
       "      <td>0.253</td>\n",
       "      <td>0.058441</td>\n",
       "      <td>0.46176</td>\n",
       "      <td>0.158275</td>\n",
       "      <td>0.052989</td>\n",
       "      <td>0.443259</td>\n",
       "      <td>72.881375</td>\n",
       "      <td>0</td>\n",
       "      <td>3.995912</td>\n",
       "    </tr>\n",
       "    <tr>\n",
       "      <th>1</th>\n",
       "      <td>2</td>\n",
       "      <td>700</td>\n",
       "      <td>1946</td>\n",
       "      <td>0</td>\n",
       "      <td>34.346348</td>\n",
       "      <td>8.478997</td>\n",
       "      <td>0</td>\n",
       "      <td>129413.0225</td>\n",
       "      <td>0</td>\n",
       "      <td>10.000000</td>\n",
       "      <td>...</td>\n",
       "      <td>43.588363</td>\n",
       "      <td>0.253</td>\n",
       "      <td>0.000000</td>\n",
       "      <td>0.00000</td>\n",
       "      <td>0.158321</td>\n",
       "      <td>0.052663</td>\n",
       "      <td>1.000000</td>\n",
       "      <td>72.900089</td>\n",
       "      <td>0</td>\n",
       "      <td>1.000000</td>\n",
       "    </tr>\n",
       "    <tr>\n",
       "      <th>2</th>\n",
       "      <td>3</td>\n",
       "      <td>700</td>\n",
       "      <td>1947</td>\n",
       "      <td>0</td>\n",
       "      <td>77.000000</td>\n",
       "      <td>8.481015</td>\n",
       "      <td>0</td>\n",
       "      <td>130431.0145</td>\n",
       "      <td>0</td>\n",
       "      <td>10.000000</td>\n",
       "      <td>...</td>\n",
       "      <td>43.538181</td>\n",
       "      <td>0.253</td>\n",
       "      <td>0.000000</td>\n",
       "      <td>0.00000</td>\n",
       "      <td>0.158425</td>\n",
       "      <td>0.052891</td>\n",
       "      <td>2.000000</td>\n",
       "      <td>72.962880</td>\n",
       "      <td>0</td>\n",
       "      <td>1.000000</td>\n",
       "    </tr>\n",
       "    <tr>\n",
       "      <th>3</th>\n",
       "      <td>4</td>\n",
       "      <td>700</td>\n",
       "      <td>1948</td>\n",
       "      <td>0</td>\n",
       "      <td>78.000000</td>\n",
       "      <td>8.451628</td>\n",
       "      <td>0</td>\n",
       "      <td>126781.6866</td>\n",
       "      <td>0</td>\n",
       "      <td>10.000000</td>\n",
       "      <td>...</td>\n",
       "      <td>43.490005</td>\n",
       "      <td>0.253</td>\n",
       "      <td>0.000000</td>\n",
       "      <td>0.00000</td>\n",
       "      <td>0.159006</td>\n",
       "      <td>0.052902</td>\n",
       "      <td>2.000000</td>\n",
       "      <td>73.102449</td>\n",
       "      <td>0</td>\n",
       "      <td>1.000000</td>\n",
       "    </tr>\n",
       "    <tr>\n",
       "      <th>4</th>\n",
       "      <td>5</td>\n",
       "      <td>700</td>\n",
       "      <td>1949</td>\n",
       "      <td>0</td>\n",
       "      <td>79.000000</td>\n",
       "      <td>8.500172</td>\n",
       "      <td>0</td>\n",
       "      <td>130979.2470</td>\n",
       "      <td>0</td>\n",
       "      <td>10.000000</td>\n",
       "      <td>...</td>\n",
       "      <td>43.602238</td>\n",
       "      <td>0.253</td>\n",
       "      <td>0.000000</td>\n",
       "      <td>0.00000</td>\n",
       "      <td>0.158074</td>\n",
       "      <td>0.052706</td>\n",
       "      <td>2.000000</td>\n",
       "      <td>72.850389</td>\n",
       "      <td>0</td>\n",
       "      <td>1.000000</td>\n",
       "    </tr>\n",
       "  </tbody>\n",
       "</table>\n",
       "<p>5 rows × 94 columns</p>\n",
       "</div>"
      ],
      "text/plain": [
       "   Unnamed: 0  cowcode  year  warstds       ager     agexp  anoc       army85  \\\n",
       "0           1      700  1945        0  34.461765  8.510845     0  129472.9042   \n",
       "1           2      700  1946        0  34.346348  8.478997     0  129413.0225   \n",
       "2           3      700  1947        0  77.000000  8.481015     0  130431.0145   \n",
       "3           4      700  1948        0  78.000000  8.451628     0  126781.6866   \n",
       "4           5      700  1949        0  79.000000  8.500172     0  130979.2470   \n",
       "\n",
       "   autch98      auto4  ...    seceduc  second  semipol3     sip2    sxpnew  \\\n",
       "0        0   3.925812  ...  43.770298   0.253  0.058441  0.46176  0.158275   \n",
       "1        0  10.000000  ...  43.588363   0.253  0.000000  0.00000  0.158321   \n",
       "2        0  10.000000  ...  43.538181   0.253  0.000000  0.00000  0.158425   \n",
       "3        0  10.000000  ...  43.490005   0.253  0.000000  0.00000  0.159006   \n",
       "4        0  10.000000  ...  43.602238   0.253  0.000000  0.00000  0.158074   \n",
       "\n",
       "      sxpsq   tnatwar      trade  warhist    xconst  \n",
       "0  0.052989  0.443259  72.881375        0  3.995912  \n",
       "1  0.052663  1.000000  72.900089        0  1.000000  \n",
       "2  0.052891  2.000000  72.962880        0  1.000000  \n",
       "3  0.052902  2.000000  73.102449        0  1.000000  \n",
       "4  0.052706  2.000000  72.850389        0  1.000000  \n",
       "\n",
       "[5 rows x 94 columns]"
      ]
     },
     "execution_count": 4,
     "metadata": {},
     "output_type": "execute_result"
    }
   ],
   "source": [
    "df.head()"
   ]
  },
  {
   "cell_type": "code",
   "execution_count": 5,
   "id": "fd6500ab",
   "metadata": {},
   "outputs": [
    {
     "data": {
      "text/plain": [
       "178"
      ]
     },
     "execution_count": 5,
     "metadata": {},
     "output_type": "execute_result"
    }
   ],
   "source": [
    "# Count the number of countries \n",
    "df['cowcode'].nunique()"
   ]
  },
  {
   "cell_type": "markdown",
   "id": "011be9af",
   "metadata": {},
   "source": [
    "Defining the variables used in the initial paper"
   ]
  },
  {
   "cell_type": "code",
   "execution_count": 6,
   "id": "961892f5",
   "metadata": {},
   "outputs": [
    {
     "data": {
      "text/html": [
       "<div>\n",
       "<style scoped>\n",
       "    .dataframe tbody tr th:only-of-type {\n",
       "        vertical-align: middle;\n",
       "    }\n",
       "\n",
       "    .dataframe tbody tr th {\n",
       "        vertical-align: top;\n",
       "    }\n",
       "\n",
       "    .dataframe thead th {\n",
       "        text-align: right;\n",
       "    }\n",
       "</style>\n",
       "<table border=\"1\" class=\"dataframe\">\n",
       "  <thead>\n",
       "    <tr style=\"text-align: right;\">\n",
       "      <th></th>\n",
       "      <th>gdpgrowth</th>\n",
       "      <th>dem4</th>\n",
       "      <th>expgdp</th>\n",
       "      <th>ager</th>\n",
       "      <th>ef</th>\n",
       "      <th>warstds</th>\n",
       "      <th>autch98</th>\n",
       "      <th>lmtnest</th>\n",
       "      <th>illiteracy</th>\n",
       "      <th>sxpsq</th>\n",
       "      <th>...</th>\n",
       "      <th>auto4</th>\n",
       "      <th>milper</th>\n",
       "      <th>sxpnew</th>\n",
       "      <th>elfo</th>\n",
       "      <th>dlang</th>\n",
       "      <th>army85</th>\n",
       "      <th>dem</th>\n",
       "      <th>pol4</th>\n",
       "      <th>cowcode</th>\n",
       "      <th>infant</th>\n",
       "    </tr>\n",
       "  </thead>\n",
       "  <tbody>\n",
       "    <tr>\n",
       "      <th>0</th>\n",
       "      <td>0.022562</td>\n",
       "      <td>3.995929</td>\n",
       "      <td>33.592410</td>\n",
       "      <td>34.461765</td>\n",
       "      <td>0.750797</td>\n",
       "      <td>0</td>\n",
       "      <td>0</td>\n",
       "      <td>4.198705</td>\n",
       "      <td>34.020639</td>\n",
       "      <td>0.052989</td>\n",
       "      <td>...</td>\n",
       "      <td>3.925812</td>\n",
       "      <td>121.087366</td>\n",
       "      <td>0.158275</td>\n",
       "      <td>66.0</td>\n",
       "      <td>70.0</td>\n",
       "      <td>129472.9042</td>\n",
       "      <td>0</td>\n",
       "      <td>0.070117</td>\n",
       "      <td>700</td>\n",
       "      <td>68.655361</td>\n",
       "    </tr>\n",
       "    <tr>\n",
       "      <th>1</th>\n",
       "      <td>0.022447</td>\n",
       "      <td>0.000000</td>\n",
       "      <td>33.561559</td>\n",
       "      <td>34.346348</td>\n",
       "      <td>0.750797</td>\n",
       "      <td>0</td>\n",
       "      <td>0</td>\n",
       "      <td>4.198705</td>\n",
       "      <td>34.129908</td>\n",
       "      <td>0.052663</td>\n",
       "      <td>...</td>\n",
       "      <td>10.000000</td>\n",
       "      <td>121.885359</td>\n",
       "      <td>0.158321</td>\n",
       "      <td>66.0</td>\n",
       "      <td>70.0</td>\n",
       "      <td>129413.0225</td>\n",
       "      <td>0</td>\n",
       "      <td>-10.000000</td>\n",
       "      <td>700</td>\n",
       "      <td>68.918002</td>\n",
       "    </tr>\n",
       "    <tr>\n",
       "      <th>2</th>\n",
       "      <td>0.022372</td>\n",
       "      <td>0.000000</td>\n",
       "      <td>33.577128</td>\n",
       "      <td>77.000000</td>\n",
       "      <td>0.750797</td>\n",
       "      <td>0</td>\n",
       "      <td>0</td>\n",
       "      <td>4.198705</td>\n",
       "      <td>34.183272</td>\n",
       "      <td>0.052891</td>\n",
       "      <td>...</td>\n",
       "      <td>10.000000</td>\n",
       "      <td>122.780608</td>\n",
       "      <td>0.158425</td>\n",
       "      <td>66.0</td>\n",
       "      <td>70.0</td>\n",
       "      <td>130431.0145</td>\n",
       "      <td>0</td>\n",
       "      <td>-10.000000</td>\n",
       "      <td>700</td>\n",
       "      <td>69.017545</td>\n",
       "    </tr>\n",
       "    <tr>\n",
       "      <th>3</th>\n",
       "      <td>0.022239</td>\n",
       "      <td>0.000000</td>\n",
       "      <td>33.625990</td>\n",
       "      <td>78.000000</td>\n",
       "      <td>0.750797</td>\n",
       "      <td>0</td>\n",
       "      <td>0</td>\n",
       "      <td>4.198705</td>\n",
       "      <td>34.234445</td>\n",
       "      <td>0.052902</td>\n",
       "      <td>...</td>\n",
       "      <td>10.000000</td>\n",
       "      <td>118.256427</td>\n",
       "      <td>0.159006</td>\n",
       "      <td>66.0</td>\n",
       "      <td>70.0</td>\n",
       "      <td>126781.6866</td>\n",
       "      <td>0</td>\n",
       "      <td>-10.000000</td>\n",
       "      <td>700</td>\n",
       "      <td>69.126788</td>\n",
       "    </tr>\n",
       "    <tr>\n",
       "      <th>4</th>\n",
       "      <td>0.022462</td>\n",
       "      <td>0.000000</td>\n",
       "      <td>33.538608</td>\n",
       "      <td>79.000000</td>\n",
       "      <td>0.750797</td>\n",
       "      <td>0</td>\n",
       "      <td>0</td>\n",
       "      <td>4.198705</td>\n",
       "      <td>34.164099</td>\n",
       "      <td>0.052706</td>\n",
       "      <td>...</td>\n",
       "      <td>10.000000</td>\n",
       "      <td>122.245074</td>\n",
       "      <td>0.158074</td>\n",
       "      <td>66.0</td>\n",
       "      <td>70.0</td>\n",
       "      <td>130979.2470</td>\n",
       "      <td>0</td>\n",
       "      <td>-10.000000</td>\n",
       "      <td>700</td>\n",
       "      <td>68.960291</td>\n",
       "    </tr>\n",
       "  </tbody>\n",
       "</table>\n",
       "<p>5 rows × 36 columns</p>\n",
       "</div>"
      ],
      "text/plain": [
       "   gdpgrowth      dem4     expgdp       ager        ef  warstds  autch98  \\\n",
       "0   0.022562  3.995929  33.592410  34.461765  0.750797        0        0   \n",
       "1   0.022447  0.000000  33.561559  34.346348  0.750797        0        0   \n",
       "2   0.022372  0.000000  33.577128  77.000000  0.750797        0        0   \n",
       "3   0.022239  0.000000  33.625990  78.000000  0.750797        0        0   \n",
       "4   0.022462  0.000000  33.538608  79.000000  0.750797        0        0   \n",
       "\n",
       "    lmtnest  illiteracy     sxpsq  ...      auto4      milper    sxpnew  elfo  \\\n",
       "0  4.198705   34.020639  0.052989  ...   3.925812  121.087366  0.158275  66.0   \n",
       "1  4.198705   34.129908  0.052663  ...  10.000000  121.885359  0.158321  66.0   \n",
       "2  4.198705   34.183272  0.052891  ...  10.000000  122.780608  0.158425  66.0   \n",
       "3  4.198705   34.234445  0.052902  ...  10.000000  118.256427  0.159006  66.0   \n",
       "4  4.198705   34.164099  0.052706  ...  10.000000  122.245074  0.158074  66.0   \n",
       "\n",
       "   dlang       army85  dem       pol4  cowcode     infant  \n",
       "0   70.0  129472.9042    0   0.070117      700  68.655361  \n",
       "1   70.0  129413.0225    0 -10.000000      700  68.918002  \n",
       "2   70.0  130431.0145    0 -10.000000      700  69.017545  \n",
       "3   70.0  126781.6866    0 -10.000000      700  69.126788  \n",
       "4   70.0  130979.2470    0 -10.000000      700  68.960291  \n",
       "\n",
       "[5 rows x 36 columns]"
      ]
     },
     "execution_count": 6,
     "metadata": {},
     "output_type": "execute_result"
    }
   ],
   "source": [
    "# Dropping unnecessary columns\n",
    "if 'Unnamed: 0' in df.columns:\n",
    "    df = df.drop('Unnamed: 0', axis=1)\n",
    "\n",
    "# Define the list of columns based on what the author chose to keep\n",
    "cols_of_interest = [\n",
    "    'cowcode',\n",
    "    'year',\n",
    "    'warstds',\n",
    "    'pol4', 'polcomp',\n",
    "    'ln_gdpen',\n",
    "    'lpopns',\n",
    "    'infant',\n",
    "    'milper',\n",
    "    'elfo', 'elfo2',\n",
    "    'oil',\n",
    "    'lmtnest',\n",
    "    'dem', 'dem4', 'parcomp',\n",
    "    'auto4', 'autch98', 'autonomy'\n",
    "]\n",
    "\n",
    "top_features = [\n",
    "    'ehet', 'seceduc', 'ager', 'ef', 'popdense', 'fuelexp', 'dlang', 'nmgdp',\n",
    "    'agexp', 'lpopns', 'gdpgrowth', 'sxpnew', 'army85', 'elfo', 'manuexp',\n",
    "    'milper', 'trade', 'illiteracy', 'expgdp', 'sxpsq'\n",
    "]\n",
    "\n",
    "# Combine both lists and remove duplicates\n",
    "all_columns = list(set(cols_of_interest + top_features))\n",
    "\n",
    "# Filter DataFrame to keep only these columns (include only those that exist)\n",
    "filtered_df = df[[col for col in all_columns if col in df.columns]]\n",
    "\n",
    "# Display the first few rows of the filtered DataFrame\n",
    "filtered_df.head()"
   ]
  },
  {
   "cell_type": "markdown",
   "id": "fae7d4f1",
   "metadata": {},
   "source": [
    "### Exploring the Missing Data (Will streamline in final version) "
   ]
  },
  {
   "cell_type": "code",
   "execution_count": 7,
   "id": "de21495d",
   "metadata": {},
   "outputs": [
    {
     "name": "stdout",
     "output_type": "stream",
     "text": [
      "1) Year range used: 1945 to 2000 inclusive\n",
      "2) Number of cowcodes with missing years: 119\n",
      "3) Number of these cowcodes that had a civil war: 49\n",
      "\n",
      "Table of cowcodes with missing years and civil war status:\n"
     ]
    },
    {
     "data": {
      "text/html": [
       "<div>\n",
       "<style scoped>\n",
       "    .dataframe tbody tr th:only-of-type {\n",
       "        vertical-align: middle;\n",
       "    }\n",
       "\n",
       "    .dataframe tbody tr th {\n",
       "        vertical-align: top;\n",
       "    }\n",
       "\n",
       "    .dataframe thead th {\n",
       "        text-align: right;\n",
       "    }\n",
       "</style>\n",
       "<table border=\"1\" class=\"dataframe\">\n",
       "  <thead>\n",
       "    <tr style=\"text-align: right;\">\n",
       "      <th></th>\n",
       "      <th>cowcode</th>\n",
       "      <th>missing_years</th>\n",
       "      <th>had_civil_war</th>\n",
       "    </tr>\n",
       "  </thead>\n",
       "  <tbody>\n",
       "    <tr>\n",
       "      <th>0</th>\n",
       "      <td>31</td>\n",
       "      <td>[1945, 1946, 1947, 1948, 1949, 1950, 1951, 195...</td>\n",
       "      <td>0</td>\n",
       "    </tr>\n",
       "    <tr>\n",
       "      <th>1</th>\n",
       "      <td>51</td>\n",
       "      <td>[1945, 1946, 1947, 1948, 1949, 1950, 1951, 195...</td>\n",
       "      <td>0</td>\n",
       "    </tr>\n",
       "    <tr>\n",
       "      <th>2</th>\n",
       "      <td>52</td>\n",
       "      <td>[1945, 1946, 1947, 1948, 1949, 1950, 1951, 195...</td>\n",
       "      <td>0</td>\n",
       "    </tr>\n",
       "    <tr>\n",
       "      <th>3</th>\n",
       "      <td>53</td>\n",
       "      <td>[1945, 1946, 1947, 1948, 1949, 1950, 1951, 195...</td>\n",
       "      <td>0</td>\n",
       "    </tr>\n",
       "    <tr>\n",
       "      <th>4</th>\n",
       "      <td>55</td>\n",
       "      <td>[1945, 1946, 1947, 1948, 1949, 1950, 1951, 195...</td>\n",
       "      <td>0</td>\n",
       "    </tr>\n",
       "  </tbody>\n",
       "</table>\n",
       "</div>"
      ],
      "text/plain": [
       "   cowcode                                      missing_years  had_civil_war\n",
       "0       31  [1945, 1946, 1947, 1948, 1949, 1950, 1951, 195...              0\n",
       "1       51  [1945, 1946, 1947, 1948, 1949, 1950, 1951, 195...              0\n",
       "2       52  [1945, 1946, 1947, 1948, 1949, 1950, 1951, 195...              0\n",
       "3       53  [1945, 1946, 1947, 1948, 1949, 1950, 1951, 195...              0\n",
       "4       55  [1945, 1946, 1947, 1948, 1949, 1950, 1951, 195...              0"
      ]
     },
     "execution_count": 7,
     "metadata": {},
     "output_type": "execute_result"
    }
   ],
   "source": [
    "import pandas as pd\n",
    "\n",
    "# 1. Define the expected year range (inclusive of 2000)\n",
    "expected_years = set(range(1945, 2001))\n",
    "\n",
    "# 2. Find missing years per cowcode\n",
    "missing_years_by_cowcode = {}\n",
    "\n",
    "for cowcode, group in df.groupby('cowcode'):\n",
    "    years_present = set(group['year'].unique())\n",
    "    missing_years = expected_years - years_present\n",
    "    if missing_years:\n",
    "        missing_years_by_cowcode[cowcode] = sorted(missing_years)\n",
    "\n",
    "# 3. Check if any of those cowcodes had warstds == 1\n",
    "civil_war_flags = {\n",
    "    cowcode: int((df[(df['cowcode'] == cowcode) & (df['warstds'] == 1)].shape[0]) > 0)\n",
    "    for cowcode in missing_years_by_cowcode.keys()\n",
    "}\n",
    "\n",
    "# 4. Create summary table\n",
    "missing_df = pd.DataFrame([\n",
    "    {\n",
    "        'cowcode': cowcode,\n",
    "        'missing_years': missing_years_by_cowcode[cowcode],\n",
    "        'had_civil_war': civil_war_flags[cowcode]\n",
    "    }\n",
    "    for cowcode in missing_years_by_cowcode\n",
    "])\n",
    "\n",
    "# 5. Print answers\n",
    "print(\"1) Year range used: 1945 to 2000 inclusive\")\n",
    "print(f\"2) Number of cowcodes with missing years: {len(missing_years_by_cowcode)}\")\n",
    "print(f\"3) Number of these cowcodes that had a civil war: {missing_df['had_civil_war'].sum()}\")\n",
    "\n",
    "print(\"\\nTable of cowcodes with missing years and civil war status:\")\n",
    "missing_df.head()"
   ]
  },
  {
   "cell_type": "markdown",
   "id": "94507a9f",
   "metadata": {},
   "source": [
    "Checking to see which countries have more than 5 consecutive missing years - this might be too many to interpolate"
   ]
  },
  {
   "cell_type": "code",
   "execution_count": 8,
   "id": "9f7185bb",
   "metadata": {},
   "outputs": [
    {
     "name": "stdout",
     "output_type": "stream",
     "text": [
      "1) Year range used: 1945 to 2000 inclusive\n",
      "2) Number of cowcodes with missing years: 119\n",
      "3) Number of these cowcodes that had a civil war: 49\n",
      "4) Number of countries with 5+ consecutive missing years: 58\n",
      "\n",
      "Table of cowcodes with missing years, civil war status, and long gaps:\n",
      "   cowcode                                      missing_years  had_civil_war  \\\n",
      "0       31  [1945, 1946, 1947, 1948, 1949, 1950, 1951, 195...              0   \n",
      "1       51  [1945, 1946, 1947, 1948, 1949, 1950, 1951, 195...              0   \n",
      "2       52  [1945, 1946, 1947, 1948, 1949, 1950, 1951, 195...              0   \n",
      "3       53  [1945, 1946, 1947, 1948, 1949, 1950, 1951, 195...              0   \n",
      "4       55  [1945, 1946, 1947, 1948, 1949, 1950, 1951, 195...              0   \n",
      "\n",
      "   has_5+_consecutive_missing  \n",
      "0                        True  \n",
      "1                       False  \n",
      "2                       False  \n",
      "3                        True  \n",
      "4                        True  \n"
     ]
    }
   ],
   "source": [
    "# Define expected year range\n",
    "expected_years = set(range(1945, 2001))\n",
    "\n",
    "def find_consecutive_sequences(years, min_length=5):\n",
    "    \"\"\"Finds sequences of consecutive years in a list, returns True if any are longer than min_length.\"\"\"\n",
    "    if not years:\n",
    "        return False\n",
    "    sorted_years = sorted(years)\n",
    "    count = 1\n",
    "    for i in range(1, len(sorted_years)):\n",
    "        if sorted_years[i] == sorted_years[i-1] + 1:\n",
    "            count += 1\n",
    "            if count > min_length:\n",
    "                return True\n",
    "        else:\n",
    "            count = 1\n",
    "    return False\n",
    "\n",
    "# Store info\n",
    "missing_years_by_cowcode = {}\n",
    "consecutive_gap_flags = {}\n",
    "\n",
    "for cowcode, group in df.groupby('cowcode'):\n",
    "    years_present = set(group['year'].unique())\n",
    "    missing_years = sorted(expected_years - years_present)\n",
    "    if missing_years:\n",
    "        missing_years_by_cowcode[cowcode] = missing_years\n",
    "        consecutive_gap_flags[cowcode] = find_consecutive_sequences(missing_years, min_length=20)\n",
    "\n",
    "# Civil war flags\n",
    "civil_war_flags = {\n",
    "    cowcode: int((df[(df['cowcode'] == cowcode) & (df['warstds'] == 1)].shape[0]) > 0)\n",
    "    for cowcode in missing_years_by_cowcode\n",
    "}\n",
    "\n",
    "# Summary table\n",
    "missing_df = pd.DataFrame([\n",
    "    {\n",
    "        'cowcode': cowcode,\n",
    "        'missing_years': missing_years_by_cowcode[cowcode],\n",
    "        'had_civil_war': civil_war_flags[cowcode],\n",
    "        'has_5+_consecutive_missing': consecutive_gap_flags[cowcode]\n",
    "    }\n",
    "    for cowcode in missing_years_by_cowcode\n",
    "])\n",
    "\n",
    "# Output\n",
    "print(\"1) Year range used: 1945 to 2000 inclusive\")\n",
    "print(f\"2) Number of cowcodes with missing years: {len(missing_years_by_cowcode)}\")\n",
    "print(f\"3) Number of these cowcodes that had a civil war: {missing_df['had_civil_war'].sum()}\")\n",
    "print(f\"4) Number of countries with 5+ consecutive missing years: {missing_df['has_5+_consecutive_missing'].sum()}\")\n",
    "\n",
    "print(\"\\nTable of cowcodes with missing years, civil war status, and long gaps:\")\n",
    "print(missing_df.head())"
   ]
  },
  {
   "cell_type": "code",
   "execution_count": 9,
   "id": "cb27a965",
   "metadata": {},
   "outputs": [
    {
     "name": "stdout",
     "output_type": "stream",
     "text": [
      "\n",
      "Countries with more than 5 consecutive missing years and the years missing:\n",
      "COWCODE 31: Missing years: [1945, 1946, 1947, 1948, 1949, 1950, 1951, 1952, 1953, 1954, 1955, 1956, 1957, 1958, 1959, 1960, 1961, 1962, 1963, 1964, 1965, 1966, 1967, 1968, 1969, 1970, 1971, 1972]\n",
      "COWCODE 53: Missing years: [1945, 1946, 1947, 1948, 1949, 1950, 1951, 1952, 1953, 1954, 1955, 1956, 1957, 1958, 1959, 1960, 1961, 1962, 1963, 1964, 1965]\n",
      "COWCODE 55: Missing years: [1945, 1946, 1947, 1948, 1949, 1950, 1951, 1952, 1953, 1954, 1955, 1956, 1957, 1958, 1959, 1960, 1961, 1962, 1963, 1964, 1965, 1966, 1967, 1968, 1969, 1970, 1971, 1972, 1973]\n",
      "COWCODE 80: Missing years: [1945, 1946, 1947, 1948, 1949, 1950, 1951, 1952, 1953, 1954, 1955, 1956, 1957, 1958, 1959, 1960, 1961, 1962, 1963, 1964, 1965, 1966, 1967, 1968, 1969, 1970, 1971, 1972, 1973, 1974, 1975, 1976, 1977, 1978, 1979, 1980]\n",
      "COWCODE 110: Missing years: [1945, 1946, 1947, 1948, 1949, 1950, 1951, 1952, 1953, 1954, 1955, 1956, 1957, 1958, 1959, 1960, 1961, 1962, 1963, 1964, 1965]\n",
      "COWCODE 115: Missing years: [1945, 1946, 1947, 1948, 1949, 1950, 1951, 1952, 1953, 1954, 1955, 1956, 1957, 1958, 1959, 1960, 1961, 1962, 1963, 1964, 1965, 1966, 1967, 1968, 1969, 1970, 1971, 1972, 1973, 1974]\n",
      "COWCODE 255: Missing years: [1945, 1946, 1947, 1948, 1949, 1950, 1951, 1952, 1953, 1954, 1955, 1956, 1957, 1958, 1959, 1960, 1961, 1962, 1963, 1964, 1965, 1966, 1967, 1968, 1969, 1970, 1971, 1972, 1973, 1974, 1975, 1976, 1977, 1978, 1979, 1980, 1981, 1982, 1983, 1984, 1985, 1986, 1987, 1988, 1989, 1990]\n",
      "COWCODE 316: Missing years: [1945, 1946, 1947, 1948, 1949, 1950, 1951, 1952, 1953, 1954, 1955, 1956, 1957, 1958, 1959, 1960, 1961, 1962, 1963, 1964, 1965, 1966, 1967, 1968, 1969, 1970, 1971, 1972, 1973, 1974, 1975, 1976, 1977, 1978, 1979, 1980, 1981, 1982, 1983, 1984, 1985, 1986, 1987, 1988, 1989, 1990, 1991, 1992]\n",
      "COWCODE 317: Missing years: [1945, 1946, 1947, 1948, 1949, 1950, 1951, 1952, 1953, 1954, 1955, 1956, 1957, 1958, 1959, 1960, 1961, 1962, 1963, 1964, 1965, 1966, 1967, 1968, 1969, 1970, 1971, 1972, 1973, 1974, 1975, 1976, 1977, 1978, 1979, 1980, 1981, 1982, 1983, 1984, 1985, 1986, 1987, 1988, 1989, 1990, 1991, 1992]\n",
      "COWCODE 343: Missing years: [1945, 1946, 1947, 1948, 1949, 1950, 1951, 1952, 1953, 1954, 1955, 1956, 1957, 1958, 1959, 1960, 1961, 1962, 1963, 1964, 1965, 1966, 1967, 1968, 1969, 1970, 1971, 1972, 1973, 1974, 1975, 1976, 1977, 1978, 1979, 1980, 1981, 1982, 1983, 1984, 1985, 1986, 1987, 1988, 1989, 1990, 1991, 2000]\n",
      "COWCODE 344: Missing years: [1945, 1946, 1947, 1948, 1949, 1950, 1951, 1952, 1953, 1954, 1955, 1956, 1957, 1958, 1959, 1960, 1961, 1962, 1963, 1964, 1965, 1966, 1967, 1968, 1969, 1970, 1971, 1972, 1973, 1974, 1975, 1976, 1977, 1978, 1979, 1980, 1981, 1982, 1983, 1984, 1985, 1986, 1987, 1988, 1989, 1990, 1991]\n",
      "COWCODE 346: Missing years: [1945, 1946, 1947, 1948, 1949, 1950, 1951, 1952, 1953, 1954, 1955, 1956, 1957, 1958, 1959, 1960, 1961, 1962, 1963, 1964, 1965, 1966, 1967, 1968, 1969, 1970, 1971, 1972, 1973, 1974, 1975, 1976, 1977, 1978, 1979, 1980, 1981, 1982, 1983, 1984, 1985, 1986, 1987, 1988, 1989, 1990]\n",
      "COWCODE 347: Missing years: [1945, 1946, 1947, 1948, 1949, 1950, 1951, 1952, 1953, 1954, 1955, 1956, 1957, 1958, 1959, 1960, 1961, 1962, 1963, 1964, 1965, 1966, 1967, 1968, 1969, 1970, 1971, 1972, 1973, 1974, 1975, 1976, 1977, 1978, 1979, 1980, 1981, 1982, 1983, 1984, 1985, 1986, 1987, 1988, 1989, 1990]\n",
      "COWCODE 349: Missing years: [1945, 1946, 1947, 1948, 1949, 1950, 1951, 1952, 1953, 1954, 1955, 1956, 1957, 1958, 1959, 1960, 1961, 1962, 1963, 1964, 1965, 1966, 1967, 1968, 1969, 1970, 1971, 1972, 1973, 1974, 1975, 1976, 1977, 1978, 1979, 1980, 1981, 1982, 1983, 1984, 1985, 1986, 1987, 1988, 1989, 1990]\n",
      "COWCODE 359: Missing years: [1945, 1946, 1947, 1948, 1949, 1950, 1951, 1952, 1953, 1954, 1955, 1956, 1957, 1958, 1959, 1960, 1961, 1962, 1963, 1964, 1965, 1966, 1967, 1968, 1969, 1970, 1971, 1972, 1973, 1974, 1975, 1976, 1977, 1978, 1979, 1980, 1981, 1982, 1983, 1984, 1985, 1986, 1987, 1988, 1989]\n",
      "COWCODE 365: Missing years: [1945, 1946, 1947, 1948, 1949, 1950, 1951, 1952, 1953, 1954, 1955, 1956, 1957, 1958, 1959, 1960, 1961, 1962, 1963, 1964, 1965, 1966, 1967, 1968, 1969, 1970, 1971, 1972, 1973, 1974, 1975, 1976, 1977, 1978, 1979, 1980, 1981, 1982, 1983, 1984, 1985, 1986, 1987, 1988, 1989, 1990]\n",
      "COWCODE 366: Missing years: [1945, 1946, 1947, 1948, 1949, 1950, 1951, 1952, 1953, 1954, 1955, 1956, 1957, 1958, 1959, 1960, 1961, 1962, 1963, 1964, 1965, 1966, 1967, 1968, 1969, 1970, 1971, 1972, 1973, 1974, 1975, 1976, 1977, 1978, 1979, 1980, 1981, 1982, 1983, 1984, 1985, 1986, 1987, 1988, 1989, 1990]\n",
      "COWCODE 367: Missing years: [1945, 1946, 1947, 1948, 1949, 1950, 1951, 1952, 1953, 1954, 1955, 1956, 1957, 1958, 1959, 1960, 1961, 1962, 1963, 1964, 1965, 1966, 1967, 1968, 1969, 1970, 1971, 1972, 1973, 1974, 1975, 1976, 1977, 1978, 1979, 1980, 1981, 1982, 1983, 1984, 1985, 1986, 1987, 1988, 1989, 1990]\n",
      "COWCODE 368: Missing years: [1945, 1946, 1947, 1948, 1949, 1950, 1951, 1952, 1953, 1954, 1955, 1956, 1957, 1958, 1959, 1960, 1961, 1962, 1963, 1964, 1965, 1966, 1967, 1968, 1969, 1970, 1971, 1972, 1973, 1974, 1975, 1976, 1977, 1978, 1979, 1980, 1981, 1982, 1983, 1984, 1985, 1986, 1987, 1988, 1989, 1990]\n",
      "COWCODE 369: Missing years: [1945, 1946, 1947, 1948, 1949, 1950, 1951, 1952, 1953, 1954, 1955, 1956, 1957, 1958, 1959, 1960, 1961, 1962, 1963, 1964, 1965, 1966, 1967, 1968, 1969, 1970, 1971, 1972, 1973, 1974, 1975, 1976, 1977, 1978, 1979, 1980, 1981, 1982, 1983, 1984, 1985, 1986, 1987, 1988, 1989, 1990]\n",
      "COWCODE 370: Missing years: [1945, 1946, 1947, 1948, 1949, 1950, 1951, 1952, 1953, 1954, 1955, 1956, 1957, 1958, 1959, 1960, 1961, 1962, 1963, 1964, 1965, 1966, 1967, 1968, 1969, 1970, 1971, 1972, 1973, 1974, 1975, 1976, 1977, 1978, 1979, 1980, 1981, 1982, 1983, 1984, 1985, 1986, 1987, 1988, 1989, 1990]\n",
      "COWCODE 371: Missing years: [1945, 1946, 1947, 1948, 1949, 1950, 1951, 1952, 1953, 1954, 1955, 1956, 1957, 1958, 1959, 1960, 1961, 1962, 1963, 1964, 1965, 1966, 1967, 1968, 1969, 1970, 1971, 1972, 1973, 1974, 1975, 1976, 1977, 1978, 1979, 1980, 1981, 1982, 1983, 1984, 1985, 1986, 1987, 1988, 1989, 1990]\n",
      "COWCODE 372: Missing years: [1945, 1946, 1947, 1948, 1949, 1950, 1951, 1952, 1953, 1954, 1955, 1956, 1957, 1958, 1959, 1960, 1961, 1962, 1963, 1964, 1965, 1966, 1967, 1968, 1969, 1970, 1971, 1972, 1973, 1974, 1975, 1976, 1977, 1978, 1979, 1980, 1981, 1982, 1983, 1984, 1985, 1986, 1987, 1988, 1989, 1990]\n",
      "COWCODE 373: Missing years: [1945, 1946, 1947, 1948, 1949, 1950, 1951, 1952, 1953, 1954, 1955, 1956, 1957, 1958, 1959, 1960, 1961, 1962, 1963, 1964, 1965, 1966, 1967, 1968, 1969, 1970, 1971, 1972, 1973, 1974, 1975, 1976, 1977, 1978, 1979, 1980, 1981, 1982, 1983, 1984, 1985, 1986, 1987, 1988, 1989, 1990]\n",
      "COWCODE 402: Missing years: [1945, 1946, 1947, 1948, 1949, 1950, 1951, 1952, 1953, 1954, 1955, 1956, 1957, 1958, 1959, 1960, 1961, 1962, 1963, 1964, 1965, 1966, 1967, 1968, 1969, 1970, 1971, 1972, 1973, 1974]\n",
      "COWCODE 404: Missing years: [1945, 1946, 1947, 1948, 1949, 1950, 1951, 1952, 1953, 1954, 1955, 1956, 1957, 1958, 1959, 1960, 1961, 1962, 1963, 1964, 1965, 1966, 1967, 1968, 1969, 1970, 1971, 1972, 1973]\n",
      "COWCODE 522: Missing years: [1945, 1946, 1947, 1948, 1949, 1950, 1951, 1952, 1953, 1954, 1955, 1956, 1957, 1958, 1959, 1960, 1961, 1962, 1963, 1964, 1965, 1966, 1967, 1968, 1969, 1970, 1971, 1972, 1973, 1974, 1975, 1976]\n",
      "COWCODE 529: Missing years: [1945, 1946, 1947, 1948, 1949, 1950, 1951, 1952, 1953, 1954, 1955, 1956, 1957, 1958, 1959, 1960, 1961, 1962, 1963, 1964, 1965, 1966, 1967, 1968, 1969, 1970, 1971, 1972, 1973, 1974, 1975, 1976, 1977, 1978, 1979, 1980, 1981, 1982, 1983, 1984, 1985, 1986, 1987, 1988, 1989, 1990, 1991, 1992, 1993, 1994]\n",
      "COWCODE 531: Missing years: [1945, 1946, 1947, 1948, 1949, 1950, 1951, 1952, 1953, 1954, 1955, 1956, 1957, 1958, 1959, 1960, 1961, 1962, 1963, 1964, 1965, 1966, 1967, 1968, 1969, 1970, 1971, 1972, 1973, 1974, 1975, 1976, 1977, 1978, 1979, 1980, 1981, 1982, 1983, 1984, 1985, 1986, 1987, 1988, 1989, 1990, 1991, 1992]\n",
      "COWCODE 540: Missing years: [1945, 1946, 1947, 1948, 1949, 1950, 1951, 1952, 1953, 1954, 1955, 1956, 1957, 1958, 1959, 1960, 1961, 1962, 1963, 1964, 1965, 1966, 1967, 1968, 1969, 1970, 1971, 1972, 1973, 1974]\n",
      "COWCODE 541: Missing years: [1945, 1946, 1947, 1948, 1949, 1950, 1951, 1952, 1953, 1954, 1955, 1956, 1957, 1958, 1959, 1960, 1961, 1962, 1963, 1964, 1965, 1966, 1967, 1968, 1969, 1970, 1971, 1972, 1973, 1974]\n",
      "COWCODE 552: Missing years: [1945, 1946, 1947, 1948, 1949, 1950, 1951, 1952, 1953, 1954, 1955, 1956, 1957, 1958, 1959, 1960, 1961, 1962, 1963, 1964, 1965]\n",
      "COWCODE 570: Missing years: [1945, 1946, 1947, 1948, 1949, 1950, 1951, 1952, 1953, 1954, 1955, 1956, 1957, 1958, 1959, 1960, 1961, 1962, 1963, 1964, 1965]\n",
      "COWCODE 571: Missing years: [1945, 1946, 1947, 1948, 1949, 1950, 1951, 1952, 1953, 1954, 1955, 1956, 1957, 1958, 1959, 1960, 1961, 1962, 1963, 1964, 1965]\n",
      "COWCODE 572: Missing years: [1945, 1946, 1947, 1948, 1949, 1950, 1951, 1952, 1953, 1954, 1955, 1956, 1957, 1958, 1959, 1960, 1961, 1962, 1963, 1964, 1965, 1966, 1967]\n",
      "COWCODE 581: Missing years: [1945, 1946, 1947, 1948, 1949, 1950, 1951, 1952, 1953, 1954, 1955, 1956, 1957, 1958, 1959, 1960, 1961, 1962, 1963, 1964, 1965, 1966, 1967, 1968, 1969, 1970, 1971, 1972, 1973, 1974]\n",
      "COWCODE 590: Missing years: [1945, 1946, 1947, 1948, 1949, 1950, 1951, 1952, 1953, 1954, 1955, 1956, 1957, 1958, 1959, 1960, 1961, 1962, 1963, 1964, 1965, 1966, 1967]\n",
      "COWCODE 591: Missing years: [1945, 1946, 1947, 1948, 1949, 1950, 1951, 1952, 1953, 1954, 1955, 1956, 1957, 1958, 1959, 1960, 1961, 1962, 1963, 1964, 1965, 1966, 1967, 1968, 1969, 1970, 1971, 1972, 1973, 1974, 1975]\n",
      "COWCODE 679: Missing years: [1945, 1946, 1947, 1948, 1949, 1950, 1951, 1952, 1953, 1954, 1955, 1956, 1957, 1958, 1959, 1960, 1961, 1962, 1963, 1964, 1965, 1966, 1967, 1968, 1969, 1970, 1971, 1972, 1973, 1974, 1975, 1976, 1977, 1978, 1979, 1980, 1981, 1982, 1983, 1984, 1985, 1986, 1987, 1988, 1989]\n",
      "COWCODE 680: Missing years: [1945, 1946, 1947, 1948, 1949, 1950, 1951, 1952, 1953, 1954, 1955, 1956, 1957, 1958, 1959, 1960, 1961, 1962, 1963, 1964, 1965, 1966, 1990, 1991, 1992, 1993, 1994, 1995, 1996, 1997, 1998, 1999, 2000]\n",
      "COWCODE 692: Missing years: [1945, 1946, 1947, 1948, 1949, 1950, 1951, 1952, 1953, 1954, 1955, 1956, 1957, 1958, 1959, 1960, 1961, 1962, 1963, 1964, 1965, 1966, 1967, 1968, 1969, 1970]\n",
      "COWCODE 694: Missing years: [1945, 1946, 1947, 1948, 1949, 1950, 1951, 1952, 1953, 1954, 1955, 1956, 1957, 1958, 1959, 1960, 1961, 1962, 1963, 1964, 1965, 1966, 1967, 1968, 1969, 1970]\n",
      "COWCODE 696: Missing years: [1945, 1946, 1947, 1948, 1949, 1950, 1951, 1952, 1953, 1954, 1955, 1956, 1957, 1958, 1959, 1960, 1961, 1962, 1963, 1964, 1965, 1966, 1967, 1968, 1969, 1970]\n",
      "COWCODE 698: Missing years: [1945, 1946, 1947, 1948, 1949, 1950, 1951, 1952, 1953, 1954, 1955, 1956, 1957, 1958, 1959, 1960, 1961, 1962, 1963, 1964, 1965, 1966, 1967, 1968, 1969, 1970]\n",
      "COWCODE 701: Missing years: [1945, 1946, 1947, 1948, 1949, 1950, 1951, 1952, 1953, 1954, 1955, 1956, 1957, 1958, 1959, 1960, 1961, 1962, 1963, 1964, 1965, 1966, 1967, 1968, 1969, 1970, 1971, 1972, 1973, 1974, 1975, 1976, 1977, 1978, 1979, 1980, 1981, 1982, 1983, 1984, 1985, 1986, 1987, 1988, 1989, 1990]\n",
      "COWCODE 702: Missing years: [1945, 1946, 1947, 1948, 1949, 1950, 1951, 1952, 1953, 1954, 1955, 1956, 1957, 1958, 1959, 1960, 1961, 1962, 1963, 1964, 1965, 1966, 1967, 1968, 1969, 1970, 1971, 1972, 1973, 1974, 1975, 1976, 1977, 1978, 1979, 1980, 1981, 1982, 1983, 1984, 1985, 1986, 1987, 1988, 1989, 1990]\n",
      "COWCODE 703: Missing years: [1945, 1946, 1947, 1948, 1949, 1950, 1951, 1952, 1953, 1954, 1955, 1956, 1957, 1958, 1959, 1960, 1961, 1962, 1963, 1964, 1965, 1966, 1967, 1968, 1969, 1970, 1971, 1972, 1973, 1974, 1975, 1976, 1977, 1978, 1979, 1980, 1981, 1982, 1983, 1984, 1985, 1986, 1987, 1988, 1989, 1990]\n",
      "COWCODE 704: Missing years: [1945, 1946, 1947, 1948, 1949, 1950, 1951, 1952, 1953, 1954, 1955, 1956, 1957, 1958, 1959, 1960, 1961, 1962, 1963, 1964, 1965, 1966, 1967, 1968, 1969, 1970, 1971, 1972, 1973, 1974, 1975, 1976, 1977, 1978, 1979, 1980, 1981, 1982, 1983, 1984, 1985, 1986, 1987, 1988, 1989, 1990]\n",
      "COWCODE 705: Missing years: [1945, 1946, 1947, 1948, 1949, 1950, 1951, 1952, 1953, 1954, 1955, 1956, 1957, 1958, 1959, 1960, 1961, 1962, 1963, 1964, 1965, 1966, 1967, 1968, 1969, 1970, 1971, 1972, 1973, 1974, 1975, 1976, 1977, 1978, 1979, 1980, 1981, 1982, 1983, 1984, 1985, 1986, 1987, 1988, 1989, 1990]\n",
      "COWCODE 760: Missing years: [1945, 1946, 1947, 1948, 1949, 1950, 1951, 1952, 1953, 1954, 1955, 1956, 1957, 1958, 1959, 1960, 1961, 1962, 1963, 1964, 1965, 1966, 1967, 1968, 1969, 1970]\n",
      "COWCODE 771: Missing years: [1945, 1946, 1947, 1948, 1949, 1950, 1951, 1952, 1953, 1954, 1955, 1956, 1957, 1958, 1959, 1960, 1961, 1962, 1963, 1964, 1965, 1966, 1967, 1968, 1969, 1970]\n",
      "COWCODE 817: Missing years: [1945, 1946, 1947, 1948, 1949, 1950, 1951, 1952, 1953, 1954, 1976, 1977, 1978, 1979, 1980, 1981, 1982, 1983, 1984, 1985, 1986, 1987, 1988, 1989, 1990, 1991, 1992, 1993, 1994, 1995, 1996, 1997, 1998, 1999, 2000]\n",
      "COWCODE 818: Missing years: [1945, 1946, 1947, 1948, 1949, 1950, 1951, 1952, 1953, 1954, 1955, 1956, 1957, 1958, 1959, 1960, 1961, 1962, 1963, 1964, 1965, 1966, 1967, 1968, 1969, 1970, 1971, 1972, 1973, 1974, 1975]\n",
      "COWCODE 910: Missing years: [1945, 1946, 1947, 1948, 1949, 1950, 1951, 1952, 1953, 1954, 1955, 1956, 1957, 1958, 1959, 1960, 1961, 1962, 1963, 1964, 1965, 1966, 1967, 1968, 1969, 1970, 1971, 1972, 1973, 1974]\n",
      "COWCODE 935: Missing years: [1945, 1946, 1947, 1948, 1949, 1950, 1951, 1952, 1953, 1954, 1955, 1956, 1957, 1958, 1959, 1960, 1961, 1962, 1963, 1964, 1965, 1966, 1967, 1968, 1969, 1970, 1971, 1972, 1973, 1974, 1975, 1976, 1977, 1978, 1979, 1980]\n",
      "COWCODE 940: Missing years: [1945, 1946, 1947, 1948, 1949, 1950, 1951, 1952, 1953, 1954, 1955, 1956, 1957, 1958, 1959, 1960, 1961, 1962, 1963, 1964, 1965, 1966, 1967, 1968, 1969, 1970, 1971, 1972, 1973, 1974, 1975, 1976, 1977]\n",
      "COWCODE 950: Missing years: [1945, 1946, 1947, 1948, 1949, 1950, 1951, 1952, 1953, 1954, 1955, 1956, 1957, 1958, 1959, 1960, 1961, 1962, 1963, 1964, 1965, 1966, 1967, 1968, 1969]\n",
      "COWCODE 990: Missing years: [1945, 1946, 1947, 1948, 1949, 1950, 1951, 1952, 1953, 1954, 1955, 1956, 1957, 1958, 1959, 1960, 1961, 1962, 1963, 1964, 1965, 1966, 1967, 1968, 1969, 1970, 1971, 1972, 1973, 1974, 1975]\n"
     ]
    }
   ],
   "source": [
    "# Print cowcodes with more than 5 consecutive missing years and their missing years\n",
    "print(\"\\nCountries with more than 5 consecutive missing years and the years missing:\")\n",
    "\n",
    "for _, row in missing_df[missing_df['has_5+_consecutive_missing']].iterrows():\n",
    "    print(f\"COWCODE {row['cowcode']}: Missing years: {row['missing_years']}\")\n"
   ]
  },
  {
   "cell_type": "code",
   "execution_count": 10,
   "id": "7e45e52b",
   "metadata": {},
   "outputs": [
    {
     "name": "stdout",
     "output_type": "stream",
     "text": [
      "Years in which at least one country had a civil war:\n",
      "[1946, 1947, 1948, 1949, 1950, 1952, 1953, 1954, 1955, 1956, 1958, 1959, 1960, 1961, 1962, 1963, 1965, 1966, 1967, 1968, 1969, 1970, 1971, 1972, 1973, 1974, 1975, 1976, 1977, 1978, 1979, 1980, 1981, 1982, 1983, 1984, 1985, 1986, 1988, 1989, 1990, 1991, 1992, 1994, 1995, 1996, 1997, 1998, 1999]\n"
     ]
    }
   ],
   "source": [
    "# Find all years where any country had a civil war (warstds == 1)\n",
    "civil_war_years = sorted(df[df['warstds'] == 1]['year'].unique())\n",
    "\n",
    "print(\"Years in which at least one country had a civil war:\")\n",
    "print(civil_war_years)\n"
   ]
  },
  {
   "cell_type": "markdown",
   "id": "3d8ad769",
   "metadata": {},
   "source": [
    "Correlation Analysis"
   ]
  },
  {
   "cell_type": "code",
   "execution_count": 11,
   "id": "138053ff",
   "metadata": {},
   "outputs": [
    {
     "data": {
      "image/png": "[encoded data removed]",
      "text/plain": [
       "<Figure size 1400x1200 with 2 Axes>"
      ]
     },
     "metadata": {},
     "output_type": "display_data"
    }
   ],
   "source": [
    "import pandas as pd\n",
    "import seaborn as sns\n",
    "import matplotlib.pyplot as plt\n",
    "\n",
    "X_cols =[\n",
    "    'pol4', 'polcomp', 'ln_gdpen', 'lpopns', 'infant', 'milper',\n",
    "    'elfo', 'elfo2', 'oil', 'lmtnest', 'dem', 'dem4', 'parcomp',\n",
    "    'auto4', 'autch98', 'autonomy'\n",
    "]\n",
    "\n",
    "# Filter the DataFrame (in case some columns are missing)\n",
    "filtered_df = df[[col for col in cols_of_interest if col in df.columns]]\n",
    "\n",
    "# Compute correlation matrix\n",
    "corr_matrix = filtered_df.corr()\n",
    "\n",
    "# Plot heatmap\n",
    "plt.figure(figsize=(14, 12))\n",
    "sns.heatmap(corr_matrix, annot=True, fmt=\".2f\", cmap=\"coolwarm\", center=0,\n",
    "            square=True, linewidths=0.5, cbar_kws={\"shrink\": 0.8})\n",
    "plt.title(\"Correlation Matrix of Selected Variables\", fontsize=16)\n",
    "plt.xticks(rotation=45, ha='right')\n",
    "plt.yticks(rotation=0)\n",
    "plt.tight_layout()\n",
    "plt.show()\n"
   ]
  },
  {
   "cell_type": "markdown",
   "id": "ece0caa5",
   "metadata": {},
   "source": [
    "#### **K-Nearest Neighbours (KNN) Classification Model**\n",
    "\n",
    "The K-Nearest Neighbours (KNN) algorithm is a supervised classification method that predicts the label of a new data point by examining the ‘K’ most similar observations in the training set. It assigns the class that appears most frequently among these neighbours to the input point.\n",
    "\n",
    "KNN is known as a non-parametric and instance-based approach. Rather than learning an internal model during training, it stores the entire dataset and performs calculations only at the time of prediction. This is why it’s often described as a lazy learning algorithm.\n",
    "\n",
    "To determine the nearest neighbours, the model typically uses a distance measure such as Euclidean distance. The number of neighbours considered, denoted by ‘K’, significantly influences the model’s behaviour. A low value of K can result in noisy, overfitted predictions, whereas a high K may cause the model to overlook more nuanced patterns.\n",
    "\n",
    "Again, to preserve the chronology of the data and to be consistent, we use the same time-based split for training and testing the KNN model."
   ]
  },
  {
   "cell_type": "markdown",
   "id": "f43c842e",
   "metadata": {},
   "source": [
    "Doing Cross Validation according to the Cowcode, and the split is done by Cowcode too"
   ]
  },
  {
   "cell_type": "code",
   "execution_count": null,
   "id": "3f27dac5",
   "metadata": {},
   "outputs": [
    {
     "name": "stdout",
     "output_type": "stream",
     "text": [
      "Best k selected via CV: 1 (avg macro F1 = 0.5022)\n",
      "\n",
      "=== CV (concatenated validation folds) ===\n",
      "              precision    recall  f1-score   support\n",
      "\n",
      "           0       0.98      0.99      0.99      3906\n",
      "           1       0.02      0.02      0.02        66\n",
      "\n",
      "    accuracy                           0.97      3972\n",
      "   macro avg       0.50      0.50      0.50      3972\n",
      "weighted avg       0.97      0.97      0.97      3972\n",
      "\n",
      "\n",
      "=== Overall TRAIN set ( < 1990 ) ===\n",
      "              precision    recall  f1-score   support\n",
      "\n",
      "           0       1.00      1.00      1.00      5211\n",
      "           1       1.00      1.00      1.00        88\n",
      "\n",
      "    accuracy                           1.00      5299\n",
      "   macro avg       1.00      1.00      1.00      5299\n",
      "weighted avg       1.00      1.00      1.00      5299\n",
      "\n",
      "\n",
      "=== Overall TEST set ( ≥ 1990 ) ===\n",
      "              precision    recall  f1-score   support\n",
      "\n",
      "           0       0.98      0.98      0.98      1813\n",
      "           1       0.00      0.00      0.00        28\n",
      "\n",
      "    accuracy                           0.96      1841\n",
      "   macro avg       0.49      0.49      0.49      1841\n",
      "weighted avg       0.97      0.96      0.97      1841\n",
      "\n"
     ]
    }
   ],
   "source": [
    "\n",
    "warnings.filterwarnings(\"ignore\")\n",
    "df_knn = filtered_df.copy()\n",
    "\n",
    "# Train / test split:   \n",
    "train_mask = df_knn['year'] < 1990        \n",
    "test_mask  = df_knn['year'] >= 1990       \n",
    "\n",
    "X_cols = [c for c in df_knn.columns if c != 'warstds']\n",
    "y      = df_knn['warstds']\n",
    "\n",
    "X_train_full = df_knn.loc[train_mask, X_cols]\n",
    "y_train_full = y.loc[train_mask]\n",
    "\n",
    "X_test_full  = df_knn.loc[test_mask,  X_cols]\n",
    "y_test_full  = y.loc[test_mask]\n",
    "\n",
    "# Define missing variables\n",
    "X_train_sorted = X_train_full.sort_values('year').reset_index(drop=True)\n",
    "y_train_sorted = y_train_full.iloc[X_train_sorted.index]\n",
    "feature_cols = [c for c in X_train_sorted.columns if c not in ['cowcode', 'year']]\n",
    "\n",
    "# Find best_k using macro-F1 across folds\n",
    "best_k = None\n",
    "best_f1 = -1\n",
    "\n",
    "for k in range(1, 21):\n",
    "    fold_f1s = []\n",
    "    tscv_k = TimeSeriesSplit(n_splits=3)\n",
    "\n",
    "    for tr_idx, val_idx in tscv_k.split(X_train_sorted):\n",
    "        X_tr  = X_train_sorted.iloc[tr_idx][feature_cols]\n",
    "        X_val = X_train_sorted.iloc[val_idx][feature_cols]\n",
    "        y_tr  = y_train_sorted.iloc[tr_idx]\n",
    "        y_val = y_train_sorted.iloc[val_idx]\n",
    "\n",
    "        scaler_k = StandardScaler()\n",
    "        X_tr_scaled  = scaler_k.fit_transform(X_tr)\n",
    "        X_val_scaled = scaler_k.transform(X_val)\n",
    "\n",
    "        knn_k = KNeighborsClassifier(n_neighbors=k)\n",
    "        knn_k.fit(X_tr_scaled, y_tr)\n",
    "        y_val_pred = knn_k.predict(X_val_scaled)\n",
    "\n",
    "        f1 = f1_score(y_val, y_val_pred, average='macro')\n",
    "        fold_f1s.append(f1)\n",
    "\n",
    "    avg_f1 = np.mean(fold_f1s)\n",
    "    if avg_f1 > best_f1:\n",
    "        best_f1 = avg_f1\n",
    "        best_k = k\n",
    "\n",
    "print(f\"Best k selected via CV: {best_k} (avg macro F1 = {best_f1:.4f})\")\n",
    "\n",
    "# CV performance (concatenated validation folds)\n",
    "y_cv_true, y_cv_pred = [], []\n",
    "tscv = TimeSeriesSplit(n_splits=3)\n",
    "\n",
    "for tr_idx, val_idx in tscv.split(X_train_sorted):\n",
    "    X_tr  = X_train_sorted.iloc[tr_idx][feature_cols]\n",
    "    X_val = X_train_sorted.iloc[val_idx][feature_cols]\n",
    "    y_tr  = y_train_sorted.iloc[tr_idx]\n",
    "    y_val = y_train_sorted.iloc[val_idx]\n",
    "\n",
    "    scaler_cv = StandardScaler()\n",
    "    X_tr_scaled  = scaler_cv.fit_transform(X_tr)\n",
    "    X_val_scaled = scaler_cv.transform(X_val)\n",
    "\n",
    "    knn_cv = KNeighborsClassifier(n_neighbors=best_k)\n",
    "    knn_cv.fit(X_tr_scaled, y_tr)\n",
    "    y_cv_pred.extend(knn_cv.predict(X_val_scaled))\n",
    "    y_cv_true.extend(y_val)\n",
    "\n",
    "print(\"\\n=== CV (concatenated validation folds) ===\")\n",
    "print(classification_report(y_cv_true, y_cv_pred, labels=[0, 1], zero_division=0))\n",
    "\n",
    "# Re-fit on all training data  \n",
    "scaler_final = StandardScaler()\n",
    "X_train_scaled = scaler_final.fit_transform(X_train_sorted[feature_cols])\n",
    "X_test_scaled  = scaler_final.transform(X_test_full[feature_cols])\n",
    "\n",
    "final_knn = KNeighborsClassifier(n_neighbors=best_k)\n",
    "final_knn.fit(X_train_scaled, y_train_sorted)\n",
    "\n",
    "y_train_pred = final_knn.predict(X_train_scaled)\n",
    "print(\"\\n=== Overall TRAIN set ( < 1990 ) ===\")\n",
    "print(classification_report(y_train_sorted, y_train_pred, labels=[0, 1], zero_division=0))\n",
    "\n",
    "# Test set performance\n",
    "y_test_pred = final_knn.predict(X_test_scaled)\n",
    "print(\"\\n=== Overall TEST set ( ≥ 1990 ) ===\")\n",
    "print(classification_report(y_test_full, y_test_pred, labels=[0, 1], zero_division=0))\n"
   ]
  },
  {
   "cell_type": "markdown",
   "id": "540f3ca8",
   "metadata": {},
   "source": [
    "**Taking Growth Rates** \n",
    "\n",
    "As we are now combining the countries and sorting them by year, the growth rates are more reliable than the absolute values. We will take the growth rates of the variables and use them for the KNN model.\n",
    "\n",
    "The growth rates calculations only start with the first non-zero data point due to the large number of missing values in the beginning of the dataset. For the first entry, we will assume it to be the same growth rate as year (X+1). \n",
    "\n",
    "For missing years in between, we will first calculate the growth rate relative to the next available year, and then we will take the compounded annual growth rate (CAGR) for the years in between. This will give us a more accurate representation of the growth rates, as we are not just taking the difference between two years, but rather the compounded growth over the years."
   ]
  },
  {
   "cell_type": "code",
   "execution_count": null,
   "id": "30a9c767",
   "metadata": {},
   "outputs": [],
   "source": [
    "\n",
    "# Base frame and columns that need growth rates\n",
    "df_growth = filtered_df.copy()\n",
    "df_growth = df_growth.sort_values(['cowcode', 'year']).reset_index(drop=True)\n",
    "\n",
    "g_cols = [c for c in df_growth.columns if c not in ['cowcode', 'year', 'warstds']]\n",
    "\n",
    "\n",
    "# Growth calculator obeying your rules\n",
    "def _growth_series(values: pd.Series) -> pd.Series:\n",
    "    \"\"\"\n",
    "    Per-country numeric Series indexed by *year* (continuous).\n",
    "    Returns decimal growth rates:\n",
    "      • first row copies second row’s growth\n",
    "      • gaps get CAGR if both end-points > 0\n",
    "      • otherwise gaps (and pure zeros) get 0\n",
    "    \"\"\"\n",
    "    n = len(values)\n",
    "    growth = np.zeros(n, dtype=float)          # default 0 growth everywhere\n",
    "\n",
    "    # indices where the series has a strictly positive value\n",
    "    good_idx = np.where(values.to_numpy() > 0)[0]\n",
    "\n",
    "    if len(good_idx) == 0:\n",
    "        # all zeros or NaNs  → keep growth = 0\n",
    "        return pd.Series(growth, index=values.index)\n",
    "\n",
    "    # iterate over consecutive known points\n",
    "    for i in range(1, len(good_idx)):\n",
    "        idx_prev, idx_curr = good_idx[i-1], good_idx[i]\n",
    "        val_prev, val_curr = values.iloc[idx_prev], values.iloc[idx_curr]\n",
    "\n",
    "        gap_len = idx_curr - idx_prev\n",
    "        # CAGR only if both ends are > 0\n",
    "        r = (val_curr / val_prev) ** (1 / gap_len) - 1\n",
    "\n",
    "        growth[idx_prev + 1 : idx_curr + 1] = r     # fill every step incl. curr\n",
    "\n",
    "    # first row copies the second row’s growth (if it exists)\n",
    "    if n > 1:\n",
    "        growth[0] = growth[1]\n",
    "\n",
    "    return pd.Series(growth, index=values.index)\n",
    "\n",
    "# Apply to every (cowcode, column) pair\n",
    "def _apply_growth(df_grp: pd.DataFrame) -> pd.DataFrame:\n",
    "    yr_range = range(df_grp['year'].min(), df_grp['year'].max() + 1)\n",
    "    df_grp = df_grp.set_index('year')\n",
    "    df_grp['cowcode'] = df_grp['cowcode'].ffill()        # constant per group\n",
    "\n",
    "    for col in g_cols:\n",
    "        df_grp[col] = _growth_series(df_grp[col])\n",
    "\n",
    "    return df_grp.reset_index()\n",
    "\n",
    "df_growth = (\n",
    "    df_growth\n",
    "      .groupby('cowcode', group_keys=False)\n",
    "      .apply(_apply_growth)\n",
    "      .reset_index(drop=True)\n",
    ")\n",
    "\n",
    "# 4.  Final clean-up   \n",
    "df_growth[g_cols] = df_growth[g_cols].replace([np.inf, -np.inf], 0).fillna(0)\n"
   ]
  },
  {
   "cell_type": "code",
   "execution_count": null,
   "id": "73306ae9",
   "metadata": {},
   "outputs": [
    {
     "name": "stdout",
     "output_type": "stream",
     "text": [
      "\n",
      "=== CV (concatenated validation folds on growth data) ===\n",
      "              precision    recall  f1-score   support\n",
      "\n",
      "           0       0.99      0.98      0.98      3907\n",
      "           1       0.12      0.15      0.13        65\n",
      "\n",
      "    accuracy                           0.97      3972\n",
      "   macro avg       0.55      0.57      0.56      3972\n",
      "weighted avg       0.97      0.97      0.97      3972\n",
      "\n",
      "\n",
      "=== Overall TRAIN set (growth data, < 1990) ===\n",
      "              precision    recall  f1-score   support\n",
      "\n",
      "           0       1.00      1.00      1.00      5211\n",
      "           1       0.92      0.95      0.94        88\n",
      "\n",
      "    accuracy                           1.00      5299\n",
      "   macro avg       0.96      0.98      0.97      5299\n",
      "weighted avg       1.00      1.00      1.00      5299\n",
      "\n",
      "\n",
      "=== Overall TEST set (growth data, ≥ 1990) ===\n",
      "              precision    recall  f1-score   support\n",
      "\n",
      "           0       0.98      0.97      0.98      1813\n",
      "           1       0.02      0.04      0.02        28\n",
      "\n",
      "    accuracy                           0.96      1841\n",
      "   macro avg       0.50      0.50      0.50      1841\n",
      "weighted avg       0.97      0.96      0.96      1841\n",
      "\n"
     ]
    }
   ],
   "source": [
    "warnings.filterwarnings(\"ignore\")\n",
    "\n",
    "# Train / test split for df_growth (% changes)\n",
    "train_mask_growth = df_growth['year'] < 1990        \n",
    "test_mask_growth  = df_growth['year'] >= 1990       \n",
    "\n",
    "X_cols_growth = [c for c in df_growth.columns if c != 'warstds']\n",
    "y_growth      = df_growth['warstds']\n",
    "\n",
    "X_train_growth = df_growth.loc[train_mask_growth, X_cols_growth]\n",
    "y_train_growth = y_growth.loc[train_mask_growth]\n",
    "\n",
    "X_test_growth  = df_growth.loc[test_mask_growth,  X_cols_growth]\n",
    "y_test_growth  = y_growth.loc[test_mask_growth]\n",
    "\n",
    "# Chronologically sort training set\n",
    "train_joined = X_train_growth.copy()\n",
    "train_joined['warstds'] = y_train_growth.values\n",
    "train_joined = train_joined.sort_values('year').reset_index(drop=True)\n",
    "\n",
    "X_train_sorted_growth = train_joined.drop(columns='warstds')\n",
    "y_train_sorted_growth = train_joined['warstds']\n",
    "\n",
    "feature_cols_growth = [c for c in X_train_sorted_growth.columns if c not in ['cowcode', 'year']]\n",
    "\n",
    "# CV performance (concatenated val folds)\n",
    "y_cv_true_growth, y_cv_pred_growth = [], []\n",
    "tscv_growth = TimeSeriesSplit(n_splits=3)\n",
    "\n",
    "for tr_idx, val_idx in tscv_growth.split(X_train_sorted_growth):\n",
    "    X_tr  = X_train_sorted_growth.iloc[tr_idx][feature_cols_growth]\n",
    "    X_val = X_train_sorted_growth.iloc[val_idx][feature_cols_growth]\n",
    "    y_tr  = y_train_sorted_growth.iloc[tr_idx]\n",
    "    y_val = y_train_sorted_growth.iloc[val_idx]\n",
    "\n",
    "    scaler_cv_growth = StandardScaler()\n",
    "    X_tr_scaled  = scaler_cv_growth.fit_transform(X_tr)\n",
    "    X_val_scaled = scaler_cv_growth.transform(X_val)\n",
    "\n",
    "    knn_cv_growth = KNeighborsClassifier(n_neighbors=best_k)\n",
    "    knn_cv_growth.fit(X_tr_scaled, y_tr)\n",
    "    y_cv_pred_growth.extend(knn_cv_growth.predict(X_val_scaled))\n",
    "    y_cv_true_growth.extend(y_val)\n",
    "\n",
    "print(\"\\n=== CV (concatenated validation folds on growth data) ===\")\n",
    "print(classification_report(y_cv_true_growth, y_cv_pred_growth))\n",
    "\n",
    "# Re-fit on full training growth data\n",
    "scaler_final_growth = StandardScaler()\n",
    "X_train_scaled_growth = scaler_final_growth.fit_transform(X_train_sorted_growth[feature_cols_growth])\n",
    "X_test_scaled_growth  = scaler_final_growth.transform(X_test_growth[feature_cols_growth])\n",
    "\n",
    "final_knn_growth = KNeighborsClassifier(n_neighbors=best_k)\n",
    "final_knn_growth.fit(X_train_scaled_growth, y_train_sorted_growth)\n",
    "\n",
    "y_train_pred_growth = final_knn_growth.predict(X_train_scaled_growth)\n",
    "print(\"\\n=== Overall TRAIN set (growth data, < 1990) ===\")\n",
    "print(classification_report(y_train_sorted_growth, y_train_pred_growth))\n",
    "\n",
    "# Test set performance on growth data\n",
    "y_test_pred_growth = final_knn_growth.predict(X_test_scaled_growth)\n",
    "print(\"\\n=== Overall TEST set (growth data, ≥ 1990) ===\")\n",
    "print(classification_report(y_test_growth, y_test_pred_growth))\n"
   ]
  },
  {
   "cell_type": "code",
   "execution_count": 30,
   "id": "cc68aae2",
   "metadata": {},
   "outputs": [
    {
     "name": "stdout",
     "output_type": "stream",
     "text": [
      "Best k selected via CV (downsampled): 1 (avg macro F1 = 0.7500)\n",
      "\n",
      "=== CV (concatenated validation folds on downsampled data) ===\n",
      "              precision    recall  f1-score   support\n",
      "\n",
      "           0       0.78      1.00      0.88       308\n",
      "           1       0.00      0.00      0.00        88\n",
      "\n",
      "    accuracy                           0.78       396\n",
      "   macro avg       0.39      0.50      0.44       396\n",
      "weighted avg       0.60      0.78      0.68       396\n",
      "\n",
      "\n",
      "=== Overall TRAIN set (downsampled, < 1990) ===\n",
      "              precision    recall  f1-score   support\n",
      "\n",
      "           0       1.00      1.00      1.00       440\n",
      "           1       1.00      1.00      1.00        88\n",
      "\n",
      "    accuracy                           1.00       528\n",
      "   macro avg       1.00      1.00      1.00       528\n",
      "weighted avg       1.00      1.00      1.00       528\n",
      "\n",
      "\n",
      "=== Overall TEST set ( ≥ 1990 ) ===\n",
      "              precision    recall  f1-score   support\n",
      "\n",
      "           0       0.99      0.85      0.91      1813\n",
      "           1       0.03      0.25      0.05        28\n",
      "\n",
      "    accuracy                           0.84      1841\n",
      "   macro avg       0.51      0.55      0.48      1841\n",
      "weighted avg       0.97      0.84      0.90      1841\n",
      "\n"
     ]
    }
   ],
   "source": [
    "\n",
    "warnings.filterwarnings(\"ignore\")\n",
    "\n",
    "# Train / test split:   \n",
    "train_mask = df_knn['year'] < 1990        \n",
    "test_mask  = df_knn['year'] >= 1990       \n",
    "\n",
    "X_cols = [c for c in df_knn.columns if c != 'warstds']\n",
    "y      = df_knn['warstds']\n",
    "\n",
    "X_train_full = df_knn.loc[train_mask, X_cols]\n",
    "y_train_full = y.loc[train_mask]\n",
    "\n",
    "X_test_full  = df_knn.loc[test_mask,  X_cols]\n",
    "y_test_full  = y.loc[test_mask]\n",
    "\n",
    "# Chronologically sort training data\n",
    "X_train_sorted = X_train_full.sort_values('year').reset_index(drop=True)\n",
    "y_train_sorted = y_train_full.iloc[X_train_sorted.index]\n",
    "feature_cols = [c for c in X_train_sorted.columns if c not in ['cowcode', 'year']]\n",
    "\n",
    "# Apply downsampling on the training set\n",
    "rus = RandomUnderSampler(random_state=42, sampling_strategy=0.2)\n",
    "X_train_resampled, y_train_resampled = rus.fit_resample(X_train_sorted[feature_cols], y_train_sorted)\n",
    "\n",
    "# Find best_k using macro-F1 across folds (on downsampled data)\n",
    "best_k = None\n",
    "best_f1 = -1\n",
    "\n",
    "for k in range(1, 21):\n",
    "    fold_f1s = []\n",
    "    tscv_k = TimeSeriesSplit(n_splits=3)\n",
    "\n",
    "    for tr_idx, val_idx in tscv_k.split(X_train_resampled):\n",
    "        X_tr = X_train_resampled.iloc[tr_idx]\n",
    "        X_val = X_train_resampled.iloc[val_idx]\n",
    "        y_tr = y_train_resampled.iloc[tr_idx]\n",
    "        y_val = y_train_resampled.iloc[val_idx]\n",
    "\n",
    "        scaler_k = StandardScaler()\n",
    "        X_tr_scaled = scaler_k.fit_transform(X_tr)\n",
    "        X_val_scaled = scaler_k.transform(X_val)\n",
    "\n",
    "        knn_k = KNeighborsClassifier(n_neighbors=k)\n",
    "        knn_k.fit(X_tr_scaled, y_tr)\n",
    "        y_val_pred = knn_k.predict(X_val_scaled)\n",
    "\n",
    "        f1 = f1_score(y_val, y_val_pred, average='macro')\n",
    "        fold_f1s.append(f1)\n",
    "\n",
    "    avg_f1 = np.mean(fold_f1s)\n",
    "    if avg_f1 > best_f1:\n",
    "        best_f1 = avg_f1\n",
    "        best_k = k\n",
    "\n",
    "print(f\"Best k selected via CV (downsampled): {best_k} (avg macro F1 = {best_f1:.4f})\")\n",
    "\n",
    "# CV performance (concatenated validation folds)\n",
    "y_cv_true, y_cv_pred = [], []\n",
    "tscv = TimeSeriesSplit(n_splits=3)\n",
    "\n",
    "for tr_idx, val_idx in tscv.split(X_train_resampled):\n",
    "    X_tr = X_train_resampled.iloc[tr_idx]\n",
    "    X_val = X_train_resampled.iloc[val_idx]\n",
    "    y_tr = y_train_resampled.iloc[tr_idx]\n",
    "    y_val = y_train_resampled.iloc[val_idx]\n",
    "\n",
    "    scaler_cv = StandardScaler()\n",
    "    X_tr_scaled = scaler_cv.fit_transform(X_tr)\n",
    "    X_val_scaled = scaler_cv.transform(X_val)\n",
    "\n",
    "    knn_cv = KNeighborsClassifier(n_neighbors=best_k)\n",
    "    knn_cv.fit(X_tr_scaled, y_tr)\n",
    "    y_cv_pred.extend(knn_cv.predict(X_val_scaled))\n",
    "    y_cv_true.extend(y_val)\n",
    "\n",
    "print(\"\\n=== CV (concatenated validation folds on downsampled data) ===\")\n",
    "print(classification_report(y_cv_true, y_cv_pred, labels=[0, 1], zero_division=0))\n",
    "\n",
    "# Re-fit on full downsampled training data\n",
    "scaler_final = StandardScaler()\n",
    "X_train_scaled = scaler_final.fit_transform(X_train_resampled)\n",
    "X_test_scaled = scaler_final.transform(X_test_full[feature_cols])\n",
    "\n",
    "final_knn = KNeighborsClassifier(n_neighbors=best_k)\n",
    "final_knn.fit(X_train_scaled, y_train_resampled)\n",
    "\n",
    "y_train_pred = final_knn.predict(X_train_scaled)\n",
    "print(\"\\n=== Overall TRAIN set (downsampled, < 1990) ===\")\n",
    "print(classification_report(y_train_resampled, y_train_pred, labels=[0, 1], zero_division=0))\n",
    "\n",
    "# Test set performance (unchanged test set)\n",
    "y_test_pred = final_knn.predict(X_test_scaled)\n",
    "print(\"\\n=== Overall TEST set ( ≥ 1990 ) ===\")\n",
    "print(classification_report(y_test_full, y_test_pred, labels=[0, 1], zero_division=0))\n"
   ]
  },
  {
   "cell_type": "code",
   "execution_count": 33,
   "id": "f69b1c5e",
   "metadata": {},
   "outputs": [
    {
     "data": {
      "application/vnd.plotly.v1+json": {
       "config": {
        "plotlyServerURL": "https://plot.ly"
       },
       "data": [
        {
         "colorscale": [
          [
           0,
           "rgb(247,251,255)"
          ],
          [
           0.125,
           "rgb(222,235,247)"
          ],
          [
           0.25,
           "rgb(198,219,239)"
          ],
          [
           0.375,
           "rgb(158,202,225)"
          ],
          [
           0.5,
           "rgb(107,174,214)"
          ],
          [
           0.625,
           "rgb(66,146,198)"
          ],
          [
           0.75,
           "rgb(33,113,181)"
          ],
          [
           0.875,
           "rgb(8,81,156)"
          ],
          [
           1,
           "rgb(8,48,107)"
          ]
         ],
         "reversescale": false,
         "showscale": true,
         "type": "heatmap",
         "x": [
          "Class 0",
          "Class 1"
         ],
         "y": [
          "Class 0",
          "Class 1"
         ],
         "z": [
          [
           1545,
           268
          ],
          [
           21,
           7
          ]
         ]
        }
       ],
       "layout": {
        "annotations": [
         {
          "font": {
           "color": "#FFFFFF"
          },
          "showarrow": false,
          "text": "1545",
          "x": "Class 0",
          "xref": "x",
          "y": "Class 0",
          "yref": "y"
         },
         {
          "font": {
           "color": "#000000"
          },
          "showarrow": false,
          "text": "268",
          "x": "Class 1",
          "xref": "x",
          "y": "Class 0",
          "yref": "y"
         },
         {
          "font": {
           "color": "#000000"
          },
          "showarrow": false,
          "text": "21",
          "x": "Class 0",
          "xref": "x",
          "y": "Class 1",
          "yref": "y"
         },
         {
          "font": {
           "color": "#000000"
          },
          "showarrow": false,
          "text": "7",
          "x": "Class 1",
          "xref": "x",
          "y": "Class 1",
          "yref": "y"
         }
        ],
        "template": {
         "data": {
          "bar": [
           {
            "error_x": {
             "color": "#2a3f5f"
            },
            "error_y": {
             "color": "#2a3f5f"
            },
            "marker": {
             "line": {
              "color": "#E5ECF6",
              "width": 0.5
             },
             "pattern": {
              "fillmode": "overlay",
              "size": 10,
              "solidity": 0.2
             }
            },
            "type": "bar"
           }
          ],
          "barpolar": [
           {
            "marker": {
             "line": {
              "color": "#E5ECF6",
              "width": 0.5
             },
             "pattern": {
              "fillmode": "overlay",
              "size": 10,
              "solidity": 0.2
             }
            },
            "type": "barpolar"
           }
          ],
          "carpet": [
           {
            "aaxis": {
             "endlinecolor": "#2a3f5f",
             "gridcolor": "white",
             "linecolor": "white",
             "minorgridcolor": "white",
             "startlinecolor": "#2a3f5f"
            },
            "baxis": {
             "endlinecolor": "#2a3f5f",
             "gridcolor": "white",
             "linecolor": "white",
             "minorgridcolor": "white",
             "startlinecolor": "#2a3f5f"
            },
            "type": "carpet"
           }
          ],
          "choropleth": [
           {
            "colorbar": {
             "outlinewidth": 0,
             "ticks": ""
            },
            "type": "choropleth"
           }
          ],
          "contour": [
           {
            "colorbar": {
             "outlinewidth": 0,
             "ticks": ""
            },
            "colorscale": [
             [
              0,
              "#0d0887"
             ],
             [
              0.1111111111111111,
              "#46039f"
             ],
             [
              0.2222222222222222,
              "#7201a8"
             ],
             [
              0.3333333333333333,
              "#9c179e"
             ],
             [
              0.4444444444444444,
              "#bd3786"
             ],
             [
              0.5555555555555556,
              "#d8576b"
             ],
             [
              0.6666666666666666,
              "#ed7953"
             ],
             [
              0.7777777777777778,
              "#fb9f3a"
             ],
             [
              0.8888888888888888,
              "#fdca26"
             ],
             [
              1,
              "#f0f921"
             ]
            ],
            "type": "contour"
           }
          ],
          "contourcarpet": [
           {
            "colorbar": {
             "outlinewidth": 0,
             "ticks": ""
            },
            "type": "contourcarpet"
           }
          ],
          "heatmap": [
           {
            "colorbar": {
             "outlinewidth": 0,
             "ticks": ""
            },
            "colorscale": [
             [
              0,
              "#0d0887"
             ],
             [
              0.1111111111111111,
              "#46039f"
             ],
             [
              0.2222222222222222,
              "#7201a8"
             ],
             [
              0.3333333333333333,
              "#9c179e"
             ],
             [
              0.4444444444444444,
              "#bd3786"
             ],
             [
              0.5555555555555556,
              "#d8576b"
             ],
             [
              0.6666666666666666,
              "#ed7953"
             ],
             [
              0.7777777777777778,
              "#fb9f3a"
             ],
             [
              0.8888888888888888,
              "#fdca26"
             ],
             [
              1,
              "#f0f921"
             ]
            ],
            "type": "heatmap"
           }
          ],
          "heatmapgl": [
           {
            "colorbar": {
             "outlinewidth": 0,
             "ticks": ""
            },
            "colorscale": [
             [
              0,
              "#0d0887"
             ],
             [
              0.1111111111111111,
              "#46039f"
             ],
             [
              0.2222222222222222,
              "#7201a8"
             ],
             [
              0.3333333333333333,
              "#9c179e"
             ],
             [
              0.4444444444444444,
              "#bd3786"
             ],
             [
              0.5555555555555556,
              "#d8576b"
             ],
             [
              0.6666666666666666,
              "#ed7953"
             ],
             [
              0.7777777777777778,
              "#fb9f3a"
             ],
             [
              0.8888888888888888,
              "#fdca26"
             ],
             [
              1,
              "#f0f921"
             ]
            ],
            "type": "heatmapgl"
           }
          ],
          "histogram": [
           {
            "marker": {
             "pattern": {
              "fillmode": "overlay",
              "size": 10,
              "solidity": 0.2
             }
            },
            "type": "histogram"
           }
          ],
          "histogram2d": [
           {
            "colorbar": {
             "outlinewidth": 0,
             "ticks": ""
            },
            "colorscale": [
             [
              0,
              "#0d0887"
             ],
             [
              0.1111111111111111,
              "#46039f"
             ],
             [
              0.2222222222222222,
              "#7201a8"
             ],
             [
              0.3333333333333333,
              "#9c179e"
             ],
             [
              0.4444444444444444,
              "#bd3786"
             ],
             [
              0.5555555555555556,
              "#d8576b"
             ],
             [
              0.6666666666666666,
              "#ed7953"
             ],
             [
              0.7777777777777778,
              "#fb9f3a"
             ],
             [
              0.8888888888888888,
              "#fdca26"
             ],
             [
              1,
              "#f0f921"
             ]
            ],
            "type": "histogram2d"
           }
          ],
          "histogram2dcontour": [
           {
            "colorbar": {
             "outlinewidth": 0,
             "ticks": ""
            },
            "colorscale": [
             [
              0,
              "#0d0887"
             ],
             [
              0.1111111111111111,
              "#46039f"
             ],
             [
              0.2222222222222222,
              "#7201a8"
             ],
             [
              0.3333333333333333,
              "#9c179e"
             ],
             [
              0.4444444444444444,
              "#bd3786"
             ],
             [
              0.5555555555555556,
              "#d8576b"
             ],
             [
              0.6666666666666666,
              "#ed7953"
             ],
             [
              0.7777777777777778,
              "#fb9f3a"
             ],
             [
              0.8888888888888888,
              "#fdca26"
             ],
             [
              1,
              "#f0f921"
             ]
            ],
            "type": "histogram2dcontour"
           }
          ],
          "mesh3d": [
           {
            "colorbar": {
             "outlinewidth": 0,
             "ticks": ""
            },
            "type": "mesh3d"
           }
          ],
          "parcoords": [
           {
            "line": {
             "colorbar": {
              "outlinewidth": 0,
              "ticks": ""
             }
            },
            "type": "parcoords"
           }
          ],
          "pie": [
           {
            "automargin": true,
            "type": "pie"
           }
          ],
          "scatter": [
           {
            "fillpattern": {
             "fillmode": "overlay",
             "size": 10,
             "solidity": 0.2
            },
            "type": "scatter"
           }
          ],
          "scatter3d": [
           {
            "line": {
             "colorbar": {
              "outlinewidth": 0,
              "ticks": ""
             }
            },
            "marker": {
             "colorbar": {
              "outlinewidth": 0,
              "ticks": ""
             }
            },
            "type": "scatter3d"
           }
          ],
          "scattercarpet": [
           {
            "marker": {
             "colorbar": {
              "outlinewidth": 0,
              "ticks": ""
             }
            },
            "type": "scattercarpet"
           }
          ],
          "scattergeo": [
           {
            "marker": {
             "colorbar": {
              "outlinewidth": 0,
              "ticks": ""
             }
            },
            "type": "scattergeo"
           }
          ],
          "scattergl": [
           {
            "marker": {
             "colorbar": {
              "outlinewidth": 0,
              "ticks": ""
             }
            },
            "type": "scattergl"
           }
          ],
          "scattermapbox": [
           {
            "marker": {
             "colorbar": {
              "outlinewidth": 0,
              "ticks": ""
             }
            },
            "type": "scattermapbox"
           }
          ],
          "scatterpolar": [
           {
            "marker": {
             "colorbar": {
              "outlinewidth": 0,
              "ticks": ""
             }
            },
            "type": "scatterpolar"
           }
          ],
          "scatterpolargl": [
           {
            "marker": {
             "colorbar": {
              "outlinewidth": 0,
              "ticks": ""
             }
            },
            "type": "scatterpolargl"
           }
          ],
          "scatterternary": [
           {
            "marker": {
             "colorbar": {
              "outlinewidth": 0,
              "ticks": ""
             }
            },
            "type": "scatterternary"
           }
          ],
          "surface": [
           {
            "colorbar": {
             "outlinewidth": 0,
             "ticks": ""
            },
            "colorscale": [
             [
              0,
              "#0d0887"
             ],
             [
              0.1111111111111111,
              "#46039f"
             ],
             [
              0.2222222222222222,
              "#7201a8"
             ],
             [
              0.3333333333333333,
              "#9c179e"
             ],
             [
              0.4444444444444444,
              "#bd3786"
             ],
             [
              0.5555555555555556,
              "#d8576b"
             ],
             [
              0.6666666666666666,
              "#ed7953"
             ],
             [
              0.7777777777777778,
              "#fb9f3a"
             ],
             [
              0.8888888888888888,
              "#fdca26"
             ],
             [
              1,
              "#f0f921"
             ]
            ],
            "type": "surface"
           }
          ],
          "table": [
           {
            "cells": {
             "fill": {
              "color": "#EBF0F8"
             },
             "line": {
              "color": "white"
             }
            },
            "header": {
             "fill": {
              "color": "#C8D4E3"
             },
             "line": {
              "color": "white"
             }
            },
            "type": "table"
           }
          ]
         },
         "layout": {
          "annotationdefaults": {
           "arrowcolor": "#2a3f5f",
           "arrowhead": 0,
           "arrowwidth": 1
          },
          "autotypenumbers": "strict",
          "coloraxis": {
           "colorbar": {
            "outlinewidth": 0,
            "ticks": ""
           }
          },
          "colorscale": {
           "diverging": [
            [
             0,
             "#8e0152"
            ],
            [
             0.1,
             "#c51b7d"
            ],
            [
             0.2,
             "#de77ae"
            ],
            [
             0.3,
             "#f1b6da"
            ],
            [
             0.4,
             "#fde0ef"
            ],
            [
             0.5,
             "#f7f7f7"
            ],
            [
             0.6,
             "#e6f5d0"
            ],
            [
             0.7,
             "#b8e186"
            ],
            [
             0.8,
             "#7fbc41"
            ],
            [
             0.9,
             "#4d9221"
            ],
            [
             1,
             "#276419"
            ]
           ],
           "sequential": [
            [
             0,
             "#0d0887"
            ],
            [
             0.1111111111111111,
             "#46039f"
            ],
            [
             0.2222222222222222,
             "#7201a8"
            ],
            [
             0.3333333333333333,
             "#9c179e"
            ],
            [
             0.4444444444444444,
             "#bd3786"
            ],
            [
             0.5555555555555556,
             "#d8576b"
            ],
            [
             0.6666666666666666,
             "#ed7953"
            ],
            [
             0.7777777777777778,
             "#fb9f3a"
            ],
            [
             0.8888888888888888,
             "#fdca26"
            ],
            [
             1,
             "#f0f921"
            ]
           ],
           "sequentialminus": [
            [
             0,
             "#0d0887"
            ],
            [
             0.1111111111111111,
             "#46039f"
            ],
            [
             0.2222222222222222,
             "#7201a8"
            ],
            [
             0.3333333333333333,
             "#9c179e"
            ],
            [
             0.4444444444444444,
             "#bd3786"
            ],
            [
             0.5555555555555556,
             "#d8576b"
            ],
            [
             0.6666666666666666,
             "#ed7953"
            ],
            [
             0.7777777777777778,
             "#fb9f3a"
            ],
            [
             0.8888888888888888,
             "#fdca26"
            ],
            [
             1,
             "#f0f921"
            ]
           ]
          },
          "colorway": [
           "#636efa",
           "#EF553B",
           "#00cc96",
           "#ab63fa",
           "#FFA15A",
           "#19d3f3",
           "#FF6692",
           "#B6E880",
           "#FF97FF",
           "#FECB52"
          ],
          "font": {
           "color": "#2a3f5f"
          },
          "geo": {
           "bgcolor": "white",
           "lakecolor": "white",
           "landcolor": "#E5ECF6",
           "showlakes": true,
           "showland": true,
           "subunitcolor": "white"
          },
          "hoverlabel": {
           "align": "left"
          },
          "hovermode": "closest",
          "mapbox": {
           "style": "light"
          },
          "paper_bgcolor": "white",
          "plot_bgcolor": "#E5ECF6",
          "polar": {
           "angularaxis": {
            "gridcolor": "white",
            "linecolor": "white",
            "ticks": ""
           },
           "bgcolor": "#E5ECF6",
           "radialaxis": {
            "gridcolor": "white",
            "linecolor": "white",
            "ticks": ""
           }
          },
          "scene": {
           "xaxis": {
            "backgroundcolor": "#E5ECF6",
            "gridcolor": "white",
            "gridwidth": 2,
            "linecolor": "white",
            "showbackground": true,
            "ticks": "",
            "zerolinecolor": "white"
           },
           "yaxis": {
            "backgroundcolor": "#E5ECF6",
            "gridcolor": "white",
            "gridwidth": 2,
            "linecolor": "white",
            "showbackground": true,
            "ticks": "",
            "zerolinecolor": "white"
           },
           "zaxis": {
            "backgroundcolor": "#E5ECF6",
            "gridcolor": "white",
            "gridwidth": 2,
            "linecolor": "white",
            "showbackground": true,
            "ticks": "",
            "zerolinecolor": "white"
           }
          },
          "shapedefaults": {
           "line": {
            "color": "#2a3f5f"
           }
          },
          "ternary": {
           "aaxis": {
            "gridcolor": "white",
            "linecolor": "white",
            "ticks": ""
           },
           "baxis": {
            "gridcolor": "white",
            "linecolor": "white",
            "ticks": ""
           },
           "bgcolor": "#E5ECF6",
           "caxis": {
            "gridcolor": "white",
            "linecolor": "white",
            "ticks": ""
           }
          },
          "title": {
           "x": 0.05
          },
          "xaxis": {
           "automargin": true,
           "gridcolor": "white",
           "linecolor": "white",
           "ticks": "",
           "title": {
            "standoff": 15
           },
           "zerolinecolor": "white",
           "zerolinewidth": 2
          },
          "yaxis": {
           "automargin": true,
           "gridcolor": "white",
           "linecolor": "white",
           "ticks": "",
           "title": {
            "standoff": 15
           },
           "zerolinecolor": "white",
           "zerolinewidth": 2
          }
         }
        },
        "title": {
         "text": "Confusion Matrix (Test Set)"
        },
        "xaxis": {
         "dtick": 1,
         "gridcolor": "rgb(0, 0, 0)",
         "side": "top",
         "ticks": "",
         "title": {
          "text": "Predicted Label"
         }
        },
        "yaxis": {
         "autorange": "reversed",
         "dtick": 1,
         "ticks": "",
         "ticksuffix": "  ",
         "title": {
          "text": "True Label"
         }
        }
       }
      }
     },
     "metadata": {},
     "output_type": "display_data"
    }
   ],
   "source": [
    "import plotly.figure_factory as ff\n",
    "import numpy as np\n",
    "from sklearn.metrics import confusion_matrix\n",
    "\n",
    "# Compute confusion matrix\n",
    "cm = confusion_matrix(y_test_full, y_test_pred, labels=[0, 1])\n",
    "labels = [\"Class 0\", \"Class 1\"]\n",
    "\n",
    "# Plot using Plotly\n",
    "z = cm\n",
    "x = labels\n",
    "y = labels\n",
    "\n",
    "fig = ff.create_annotated_heatmap(\n",
    "    z=z,\n",
    "    x=x,\n",
    "    y=y,\n",
    "    colorscale='Blues',\n",
    "    showscale=True,\n",
    "    annotation_text=[[str(cell) for cell in row] for row in z],\n",
    ")\n",
    "\n",
    "fig.update_layout(\n",
    "    title=\"Confusion Matrix (Test Set)\",\n",
    "    xaxis_title=\"Predicted Label\",\n",
    "    yaxis_title=\"True Label\",\n",
    ")\n",
    "fig.update_yaxes(autorange='reversed')\n",
    "fig.show()"
   ]
  }
 ],
 "metadata": {
  "kernelspec": {
   "display_name": "base",
   "language": "python",
   "name": "python3"
  },
  "language_info": {
   "codemirror_mode": {
    "name": "ipython",
    "version": 3
   },
   "file_extension": ".py",
   "mimetype": "text/x-python",
   "name": "python",
   "nbconvert_exporter": "python",
   "pygments_lexer": "ipython3",
   "version": "3.11.5"
  }
 },
 "nbformat": 4,
 "nbformat_minor": 5
}
